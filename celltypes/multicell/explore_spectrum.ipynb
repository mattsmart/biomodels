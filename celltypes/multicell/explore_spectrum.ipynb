{
 "cells": [
  {
   "cell_type": "code",
   "execution_count": null,
   "metadata": {
    "pycharm": {
     "is_executing": false
    }
   },
   "outputs": [],
   "source": [
    "#%matplotlib notebook\n",
    "%matplotlib inline"
   ]
  },
  {
   "cell_type": "code",
   "execution_count": null,
   "metadata": {
    "pycharm": {
     "is_executing": false,
     "name": "#%%\n"
    }
   },
   "outputs": [],
   "source": [
    "from ipywidgets import *\n",
    "import matplotlib.pyplot as plt\n",
    "import numpy as np\n",
    "import os\n",
    "import pickle\n",
    "import sys\n",
    "\n",
    "# path hack for relative import in jupyter notebook\n",
    "CELLTYPES = os.path.dirname(os.path.abspath(''))\n",
    "sys.path.append(CELLTYPES)\n",
    "\n",
    "from singlecell.singlecell_linalg import sorted_eig\n",
    "from utils.file_io import RUNS_FOLDER, INPUT_FOLDER\n",
    "from singlecell.singlecell_simsetup import singlecell_simsetup\n",
    "from multicell.multicell_simulate import Multicell\n",
    "from multicell.analysis_gamma import check_still_fp\n",
    "\n",
    "manyruns = RUNS_FOLDER + os.sep + 'multicell_manyruns'"
   ]
  },
  {
   "cell_type": "code",
   "execution_count": null,
   "metadata": {},
   "outputs": [],
   "source": [
    "NOTEBOOK_OUTDIR = RUNS_FOLDER + os.sep + 'explore' + os.sep + 'nb_spectrum'\n",
    "os.makedirs(NOTEBOOK_OUTDIR, exist_ok=True)"
   ]
  },
  {
   "cell_type": "markdown",
   "metadata": {},
   "source": [
    "# Notebook functions"
   ]
  },
  {
   "cell_type": "code",
   "execution_count": null,
   "metadata": {},
   "outputs": [],
   "source": [
    "def J_multicell_from_class(multicell, gamma, plot=False):\n",
    "    J_multicell = multicell.build_J_multicell(gamma=gamma, plot=plot)\n",
    "    return J_multicell\n",
    "\n",
    "def J_multicell_manual(gamma, J, A, W, autocrine=False, plot=False):\n",
    "    num_genes = J.shape[0]\n",
    "    num_cells = A.shape[0]\n",
    "    \n",
    "    W_scaled = gamma * W\n",
    "    W_scaled_sym = 0.5 * (W_scaled + W_scaled.T)\n",
    "\n",
    "    # Term A: self interactions for each cell (diagonal blocks of multicell J_block)\n",
    "    if autocrine:\n",
    "        J_diag_blocks = np.kron(np.eye(num_cells), J + W_scaled_sym)\n",
    "    else:\n",
    "        J_diag_blocks = np.kron(np.eye(num_cells), J)\n",
    "\n",
    "    # Term B of J_multicell (cell-cell interactions)\n",
    "    adjacency_arr_lowtri = np.tril(A, k=-1)\n",
    "    adjacency_arr_uptri = np.triu(A, k=1)\n",
    "    J_offdiag_blocks = np.kron(adjacency_arr_lowtri, W_scaled.T) \\\n",
    "                       + np.kron(adjacency_arr_uptri, W_scaled)\n",
    "\n",
    "    # build final J multicell matrix\n",
    "    J_multicell = J_diag_blocks + J_offdiag_blocks\n",
    "\n",
    "    if plot:\n",
    "        plt.imshow(J_multicell)\n",
    "        plt.title('Multicell gene interaction matrix')\n",
    "        plt.show()\n",
    "    return J_multicell"
   ]
  },
  {
   "cell_type": "code",
   "execution_count": null,
   "metadata": {},
   "outputs": [],
   "source": [
    "from mpl_toolkits.axes_grid1 import make_axes_locatable\n",
    "\n",
    "def plot_evals_rank(ax, evals, gamma, eval_indices):\n",
    "    x_axis = eval_indices  # possible use instead np.arange(len(eval_indices)), and change the axis label\n",
    "    evals = evals[eval_indices]\n",
    "    ax.plot(x_axis, evals, '--o', alpha=0.6, label='$\\gamma=%.2f$' % gamma)\n",
    "    ax.axhline(0)\n",
    "    \n",
    "def plot_evals_hist(ax, evals, gamma, nbins=120):\n",
    "    #plt.scatter(range(len(evals)), evals, marker='o', alpha=0.6, edgecolors='k', label='$\\gamma=%.2f$' % gamma)\n",
    "    ax.hist(evals, alpha=0.6, bins=nbins, label='$\\gamma=%.2f$' % gamma) \n",
    "\n",
    "def get_and_plot_evals(J_multicell, gamma):\n",
    "    evals, _ = sorted_eig(J_multicell, take_real=True, big_to_small=True)\n",
    "    #plt.scatter(range(len(evals)), evals, marker='o', alpha=0.6, edgecolors='k', label='$\\gamma=%.2f$' % gamma)\n",
    "    plt.plot(range(len(evals)), evals, '--o', alpha=0.6, label='$\\gamma=%.2f$' % gamma)\n",
    "    \n",
    "def show_evecs_range(evecs, evals, spin_indices, eval_indices, reshape_tuple=None, forcelims=False, figsize=(10,10), norm=True, imshow=True, ax=None):\n",
    "    if forcelims: assert imshow  # TODO clip for other style?\n",
    "    # assumes already sorted largest to smallest\n",
    "    print(evecs.shape)\n",
    "    arr = evecs[:, eval_indices]\n",
    "    arr = arr[spin_indices, :]\n",
    "    \n",
    "    if ax is None:\n",
    "        plt.figure(figsize=figsize)\n",
    "        ax = plt.gca()\n",
    "    \n",
    "    if norm:\n",
    "        arr_caps = np.amax(np.abs(arr), axis=0)\n",
    "        arr = arr / arr_caps  # absmax of each eigenvector is stretched to +1      \n",
    "    \n",
    "    if imshow:\n",
    "        aspect='auto'\n",
    "        if forcelims:\n",
    "            absmax = np.max(np.abs(arr))\n",
    "            mappable = ax.imshow(arr, interpolation='none', cmap='coolwarm_r', vmin=-absmax, vmax=absmax, aspect=aspect)\n",
    "        else:\n",
    "            mappable = ax.imshow(arr, interpolation='none', cmap='coolwarm_r', aspect=aspect)\n",
    "            \n",
    "        # create an axes on the right side of ax. The width of cax will be 5%\n",
    "        # of ax and the padding between cax and ax will be fixed at 0.05 inch.\n",
    "        #divider = make_axes_locatable(ax)\n",
    "        #cax = divider.append_axes(\"right\", size=\"2%\", pad=0.05)\n",
    "        #fig.colorbar(mappable, cax=cax)\n",
    "\n",
    "        #ax.set_aspect(0.4375)\n",
    "        #cax.set_aspect(8.75)\n",
    "        \n",
    "    else:\n",
    "        for idx in indices:\n",
    "            ax.bar(np.arange(evecs.shape[0]), arr[:, idx], label='$\\lambda_{%d}=%.3f$' % (idx, evals[idx]))\n",
    "        ax.set_xlabel('Gene index')\n",
    "        ax.set_ylabel('Eigenvector value')\n",
    "        ax.legend()\n",
    "    \n",
    "    # TODO functionalize this, else the ticks will be 0 to K, which index the arrays: spin_indices, eval_indices\n",
    "    \"\"\"\n",
    "    ax.set_xticks(eval_indices)\n",
    "    ax.set_yticks(spin_indices)\"\"\"\n",
    "    \n",
    "    return ax\n",
    "\n",
    "def plot_all_4(J, W, A, J_multicell):\n",
    "    cmap = 'bwr'  # bwr Purples\n",
    "\n",
    "    fig, ax = plt.subplots(2,2, figsize=(10,9))\n",
    "\n",
    "    plotdict = {(0,0): {'arr': J, \n",
    "                        'label': 'Gene #',\n",
    "                        'title': r'$\\bf{J_0}$'},\n",
    "                (0,1): {'arr': W, \n",
    "                        'label': 'Gene #',\n",
    "                        'title': r'$\\bf{W}$'},\n",
    "                (1,0): {'arr': A, \n",
    "                        'label': 'Cell #',\n",
    "                        'title': r'$\\bf{A}$'},\n",
    "                (1,1): {'arr': J_multicell, \n",
    "                        'label': '(Multicell) Gene #',\n",
    "                        'title': r'$\\bf{J_{multicell} = I \\otimes J_0 + A \\otimes W}$'},\n",
    "               }\n",
    "\n",
    "    for k, v in plotdict.items():    \n",
    "        ax[k].imshow(v['arr'], cmap=cmap)\n",
    "        ax[k].set_title(v['title'])\n",
    "        ax[k].set_xlabel(v['label'])\n",
    "        ax[k].set_ylabel(v['label'])\n",
    "\n",
    "    plt.subplots_adjust(hspace=0.3, wspace=0.1)\n",
    "    plt.show()\n",
    "    \n",
    "    \n",
    "def plot_evecs_and_evals_stacked(evecs, evals, eval_indices, spin_indices, gamma, num_cells, num_genes, title=None, reshape_tuple=None, forcelims=False, figsize=(10,10), imshow=True):\n",
    "    fig, ax = plt.subplots(2, 1, figsize=(15,10), sharex=True)\n",
    "    \n",
    "    # Plot evecs above on ax 1 - TODO - vis flag to stretch each eigenvector separately to have max abs value 1\n",
    "    show_evecs_range(evecs, evals, spin_indices, eval_indices, reshape_tuple=None, forcelims=False, imshow=True, ax=ax[0])\n",
    "    ax[0].set_xlabel('rank of $\\lambda$')\n",
    "    ax[0].set_ylabel('spin index')\n",
    "    linecol = 'black'\n",
    "\n",
    "    # Plot evals below on ax 2\n",
    "    plot_evals_rank(ax[1], evals, gamma, eval_indices)\n",
    "    ax[1].set_xlabel('rank of $\\lambda$')\n",
    "    ax[1].set_ylabel('$\\lambda$')\n",
    "    \n",
    "    if title is not None:\n",
    "        ax[0].set_title(title_gamma)\n",
    "        #plt.suptitle(title)\n",
    "    \n",
    "    # Vertical lines (TODO REMOVE - used for axis alignment)\n",
    "    if len(eval_indices) < 100: \n",
    "        vlw = 1.0\n",
    "        #for k in range(1, num_genes * num_cells):\n",
    "        for k in range(1, len(eval_indices)):\n",
    "            assert eval_indices[0] == 0 and eval_indices[1] == 1\n",
    "            g_pos = k - 0.5\n",
    "            ax[0].axvline(g_pos, 0, 1, color=linecol, lw=vlw)\n",
    "            ax[1].axvline(g_pos, 0, 1, color=linecol, lw=vlw)\n",
    "    # Horizontal lines\n",
    "    if len(spin_indices) < 900:  # should mnaybe replace by len(indices) < 100\n",
    "        hlw = 1.0\n",
    "        for c in range(1, int(len(spin_indices)/num_genes)):\n",
    "            assert spin_indices[0] == 0 and spin_indices[1] == 1\n",
    "            c_pos = num_genes * c - 0.5\n",
    "            ax[0].axhline(c_pos, 0, 1, color=linecol, lw=hlw)\n",
    "\n",
    "    #plt.subplots_adjust(hspace=0.3, wspace=0.3)\n",
    "    #plt.subplots_adjust(top=1, bottom=0, right=1, left=0, hspace=0, wspace=0)\n",
    "    fpath = NOTEBOOK_OUTDIR + os.sep + 'manual_Jmulticell_spec_g%.5f' % gamma\n",
    "    plt.savefig(fpath + '.png', bbox_inches='tight')\n",
    "    plt.savefig(fpath + '.pdf', bbox_inches='tight')\n",
    "    "
   ]
  },
  {
   "cell_type": "code",
   "execution_count": null,
   "metadata": {},
   "outputs": [],
   "source": [
    "def plot_evec_as_lattice(evec, num_cells, num_genes, sidelength, norm=True):\n",
    "    ndim = num_cells * num_genes\n",
    "    assert sidelength ** 2 == num_cells\n",
    "    assert len(evec.shape) == 1\n",
    "    assert evec.shape[0] == ndim\n",
    "    \n",
    "    if norm:\n",
    "        arr_caps = np.amax(np.abs(evec), axis=0)  # could simplify, its not 2D array\n",
    "        evec = evec / arr_caps  # absmax of each eigenvector is stretched to +1    \n",
    "    \n",
    "    # morph array into correct shape (first lattice site has genes 1 to N, next has N+1 to N, etc.)\n",
    "    sidelength_genes = sidelength * num_genes\n",
    "    arr = evec.reshape(sidelength, sidelength, num_genes, order='C')\n",
    "    arr_imshow = np.zeros((sidelength_genes, sidelength))\n",
    "    for idx in range(sidelength):\n",
    "        i = num_genes * idx\n",
    "        j = num_genes * (idx + 1)\n",
    "        arr_imshow[i:j, :] = arr[idx, :, :].T\n",
    "    \n",
    "    plt.figure(figsize=(20,10))\n",
    "    ax = plt.gca()\n",
    "    mappable = ax.imshow(arr_imshow, interpolation='none', cmap='coolwarm_r', aspect='auto')\n",
    "    \n",
    "    # add line dividers for each cell\n",
    "    vlw = 4.0\n",
    "    hlw = 4.0\n",
    "    linecol = 'k'\n",
    "    for k in range(1, sidelength):\n",
    "        ax.axvline(k - 0.5, 0, 1, color=linecol, lw=vlw)\n",
    "        ax.axhline(k * num_genes  - 0.5, 0, 1, color=linecol, lw=hlw)\n",
    "    \n",
    "    fpath = NOTEBOOK_OUTDIR + os.sep + 'manual_Jmulticell_evec_as_lattice'\n",
    "    plt.savefig(fpath + '.png', bbox_inches='tight')\n",
    "    plt.savefig(fpath + '.pdf', bbox_inches='tight')"
   ]
  },
  {
   "cell_type": "markdown",
   "metadata": {},
   "source": [
    "# (LOCAL) Build multicell object"
   ]
  },
  {
   "cell_type": "code",
   "execution_count": null,
   "metadata": {},
   "outputs": [],
   "source": [
    "# 1) create simsetup\n",
    "main_seed = 0  #np.random.randint(1e6)\n",
    "curated = True\n",
    "random_mem = False        # TODO incorporate seed in random XI in simsetup/curated\n",
    "random_W = True          # TODO incorporate seed in random W in simsetup/curated\n",
    "\n",
    "#W_override_path = None\n",
    "\n",
    "# ===========================================\n",
    "# aka Wrandom0\n",
    "#W_override_path = INPUT_FOLDER + os.sep + 'manual_WJ' + os.sep + 'simsetup_W_9_maze.txt'\n",
    "# ===========================================\n",
    "\n",
    "W_override_path = INPUT_FOLDER + os.sep + 'manual_WJ' + os.sep + 'simsetup_W_9_W1pattern.txt'\n",
    "#W_override_path = INPUT_FOLDER + os.sep + 'manual_WJ' + os.sep + 'simsetup_W_2018mazeUpTri.txt'\n",
    "#W_override_path = INPUT_FOLDER + os.sep + 'manual_WJ' + os.sep + 'simsetup_W_9_manual_ABv2.txt'\n",
    "#W_override_path = INPUT_FOLDER + os.sep + 'manual_WJ' + os.sep + 'simsetup_W_9_W7maze.txt'\n",
    "\n",
    "simsetup_main = singlecell_simsetup(\n",
    "    unfolding=True, random_mem=random_mem, random_W=random_W, curated=curated, housekeeping=0)\n",
    "if W_override_path is not None:\n",
    "    print('Note: in main, overriding W from file...')\n",
    "    explicit_W = np.loadtxt(W_override_path, delimiter=',')\n",
    "    simsetup_main['FIELD_SEND'] = explicit_W\n",
    "    \n",
    "print(\"\\nsimsetup checks:\")\n",
    "print(\"\\tsimsetup['N'],\", simsetup_main['N'])\n",
    "print(\"\\tsimsetup['P'],\", simsetup_main['P'])\n",
    "with np.printoptions(precision=3, suppress=True):\n",
    "    print(\"simsetup J\\n\", simsetup_main['J'])\n",
    "print(\"simsetup W\\n\", simsetup_main['FIELD_SEND'])"
   ]
  },
  {
   "cell_type": "code",
   "execution_count": null,
   "metadata": {},
   "outputs": [],
   "source": [
    "# setup 2.1) multicell sim core parameters\n",
    "search_radius = 1\n",
    "num_cells = 10**2           # global GRIDSIZE\n",
    "total_steps = 31            # global NUM_LATTICE_STEPS\n",
    "plot_period = 10\n",
    "\n",
    "flag_state_int = False\n",
    "flag_blockparallel = False\n",
    "beta = np.Inf\n",
    "#gamma = 0.0  #1.0               # i.e. field_signal_strength\n",
    "gamma = 0.0  # 1.0               # i.e. field_signal_strength\n",
    "kappa = 0.0                # i.e. field_applied_strength\n",
    "\n",
    "# setup 2.2) graph options\n",
    "autocrine = False\n",
    "graph_style = 'lattice_square'\n",
    "graph_kwargs = {'search_radius': search_radius,\n",
    "                'periodic': True,\n",
    "                'initialization_style': 'dual'}\n",
    "\n",
    "# setup 2.6) optionally load an initial state for the lattice\n",
    "load_manual_init = False\n",
    "init_state_path = None\n",
    "if load_manual_init:\n",
    "    init_state_path = INPUT_FOLDER + os.sep + 'manual_graphstate' + os.sep + 'X_7.txt'\n",
    "    print('Note: in main, loading init graph state from file...')\n",
    "\n",
    "# 3) prep args for Multicell class instantiation\n",
    "multicell_kwargs = {\n",
    "    'seed': main_seed,\n",
    "    'beta': beta,\n",
    "    'total_steps': total_steps,\n",
    "    'num_cells': num_cells,\n",
    "    'flag_blockparallel': flag_blockparallel,\n",
    "    'graph_style': graph_style,\n",
    "    'graph_kwargs': graph_kwargs,\n",
    "    'autocrine': autocrine,\n",
    "    'gamma': gamma,\n",
    "    'exosome_string': \"no_exo_field\",\n",
    "    'exosome_remove_ratio': 0.0,\n",
    "    'kappa': kappa,\n",
    "    'field_applied': None,\n",
    "    'flag_housekeeping': False,\n",
    "    'flag_state_int': flag_state_int,\n",
    "    'plot_period': plot_period,\n",
    "    'init_state_path': init_state_path,\n",
    "    'run_subdir': None  #'s%d' % main_seed\n",
    "}\n",
    "\n",
    "# 3) instantiate\n",
    "multicell = Multicell(simsetup_main, verbose=True, **multicell_kwargs)\n",
    "ndim = multicell.num_genes * multicell.num_cells"
   ]
  },
  {
   "cell_type": "markdown",
   "metadata": {},
   "source": [
    "#### Plot matrices for fixed params"
   ]
  },
  {
   "cell_type": "code",
   "execution_count": null,
   "metadata": {
    "scrolled": false
   },
   "outputs": [],
   "source": [
    "plot_all_4(multicell.matrix_J, multicell.matrix_W, multicell.matrix_A, multicell.matrix_J_multicell) "
   ]
  },
  {
   "cell_type": "markdown",
   "metadata": {},
   "source": [
    "#### Plot spectra (rank) for fixed params"
   ]
  },
  {
   "cell_type": "code",
   "execution_count": null,
   "metadata": {},
   "outputs": [],
   "source": [
    "eval_indices_full = np.arange(ndim)\n",
    "evalsdict = {(0,0): {'arr': multicell.matrix_J, \n",
    "                     'title': r'Spectrum: $\\bf{J_0}$',\n",
    "                     'evals': sorted_eig(multicell.matrix_J, take_real=True, big_to_small=True)[0],\n",
    "                     'eval_indices': np.arange(multicell.num_genes)\n",
    "                    },\n",
    "             (0,1): {'arr': multicell.matrix_W, \n",
    "                     'title': r'Spectrum: $\\bf{W}$',\n",
    "                     'evals': sorted_eig(multicell.matrix_W, take_real=True, big_to_small=True)[0],\n",
    "                     'eval_indices': np.arange(multicell.num_genes)\n",
    "                    },\n",
    "             (1,0): {'arr': multicell.matrix_A, \n",
    "                     'title': r'Spectrum: $\\bf{A}$',\n",
    "                     'evals': sorted_eig(multicell.matrix_A, take_real=True, big_to_small=True)[0],\n",
    "                     'eval_indices': np.arange(multicell.num_cells)\n",
    "                    },\n",
    "             (1,1): {'arr': multicell.matrix_J_multicell, \n",
    "                     'title': r'Spectrum: $\\bf{J_{multicell} = I \\otimes J_0 + A \\otimes W}$',\n",
    "                     'evals': sorted_eig(multicell.matrix_J_multicell, take_real=True, big_to_small=True)[0],\n",
    "                     'eval_indices': eval_indices_full\n",
    "                    },\n",
    "            }"
   ]
  },
  {
   "cell_type": "code",
   "execution_count": null,
   "metadata": {},
   "outputs": [],
   "source": [
    "fig, ax = plt.subplots(2,2, figsize=(10,9))\n",
    "xlabel = 'rank of $\\lambda$'\n",
    "ylabel = '$\\lambda$'\n",
    "\n",
    "for k, v in evalsdict.items():    \n",
    "    plot_evals_rank(ax[k], v['evals'], gamma, v['eval_indices'])\n",
    "    ax[k].set_title(v['title'])\n",
    "    ax[k].set_xlabel(xlabel)\n",
    "    ax[k].set_ylabel(ylabel)\n",
    "\n",
    "plt.subplots_adjust(hspace=0.3, wspace=0.3)\n",
    "plt.show()"
   ]
  },
  {
   "cell_type": "code",
   "execution_count": null,
   "metadata": {
    "scrolled": true
   },
   "outputs": [],
   "source": [
    "fig, ax = plt.subplots(2,2, figsize=(10,9))\n",
    "xlabel = '$\\lambda$'\n",
    "ylabel = 'Events'\n",
    "\n",
    "for k, v in evalsdict.items():    \n",
    "    plot_evals_hist(ax[k], v['evals'], gamma, nbins=50)\n",
    "    ax[k].set_title(v['title'])\n",
    "    ax[k].set_xlabel(xlabel)\n",
    "    ax[k].set_ylabel(ylabel)\n",
    "    #ax[k].set_xlim(10,24)\n",
    "    #ax[k].set_xlim(18.75,19)\n",
    "    #ax[k].set_ylim(0,10)\n",
    "\n",
    "plt.subplots_adjust(hspace=0.3, wspace=0.3)\n",
    "plt.show()"
   ]
  },
  {
   "cell_type": "markdown",
   "metadata": {},
   "source": [
    "**Plot eigenvectors**"
   ]
  },
  {
   "cell_type": "code",
   "execution_count": null,
   "metadata": {},
   "outputs": [],
   "source": [
    "J = multicell.matrix_J\n",
    "A = multicell.matrix_A\n",
    "W = multicell.matrix_W\n",
    "\n",
    "A_alternate = np.ones(10)\n",
    "A_to_try = A\n",
    "#A_to_try = A_alternate\n",
    "\n",
    "num_cells_loc = A_to_try.shape[0]\n",
    "num_genes_loc = W.shape[0]\n",
    "ndim = num_cells_loc * num_genes_loc\n",
    "#indices = np.arange(ndim)\n",
    "eval_indices = np.arange(ndim)\n",
    "spin_indices = np.arange(ndim)\n",
    "\n",
    "gamma_space = [0.0, 1.0]#, 0.07] #, 0.08]#, 0.09]\n",
    "\n",
    "for idx, g in enumerate(gamma_space):\n",
    "    M_gamma = J_multicell_manual(g, J, A_to_try, W, autocrine=autocrine, plot=False)\n",
    "    # TODO STORE THESE OUTPUTS\n",
    "    M_gamma_evals, M_gamma_evecs = sorted_eig(M_gamma, take_real=True, big_to_small=True)\n",
    "    \n",
    "    title_gamma = r'Spectrum: $\\bf{J_{multicell} = I \\otimes J_0 + A \\otimes W}$, $\\gamma=%.4f$' % g\n",
    "    \n",
    "    plot_evecs_and_evals_stacked(M_gamma_evecs, M_gamma_evals, eval_indices, spin_indices, g, num_cells_loc, num_genes_loc, title=title_gamma, reshape_tuple=None, forcelims=False, figsize=(10,10), imshow=True)    "
   ]
  },
  {
   "cell_type": "code",
   "execution_count": null,
   "metadata": {},
   "outputs": [],
   "source": [
    "# plot just the last one from the loop\n",
    "\n",
    "g = gamma_space[-1]  # must be -1\n",
    "title_gamma = r'Spectrum: $\\bf{J_{multicell} = I \\otimes J_0 + A \\otimes W}$, $\\gamma=%.4f$' % g\n",
    "\n",
    "eval_indices = np.arange(0,50)\n",
    "spin_indices = np.arange(0,90)\n",
    "#spin_indices = np.arange(ndim)\n",
    "plot_evecs_and_evals_stacked(M_gamma_evecs, M_gamma_evals, eval_indices, spin_indices, g, num_cells_loc, num_genes_loc, title=title_gamma, reshape_tuple=None, forcelims=False, figsize=(10,10), imshow=True)    \n"
   ]
  },
  {
   "cell_type": "code",
   "execution_count": null,
   "metadata": {
    "scrolled": true
   },
   "outputs": [],
   "source": [
    "# look at eigenvectors for specific gamma balue\n",
    "gamma_test = 100.0\n",
    "M_gamma_evals, M_gamma_evecs = sorted_eig(M_gamma, take_real=True, big_to_small=True)\n",
    "\n",
    "\n",
    "v1 = M_gamma_evecs[:,0]\n",
    "cap = np.max(np.abs(v1))\n",
    "v1s = v1 / cap\n",
    "print(v1)\n",
    "print(np.min(v1), np.max(v1))\n",
    "print(v1s)\n",
    "print(np.min(v1s), np.max(v1s))"
   ]
  },
  {
   "cell_type": "code",
   "execution_count": null,
   "metadata": {},
   "outputs": [],
   "source": [
    "evec = M_gamma_evecs[:, 0]\n",
    "sidelength = 10\n",
    "plot_evec_as_lattice(evec, num_cells_loc, num_genes_loc, sidelength, norm=True)"
   ]
  },
  {
   "cell_type": "code",
   "execution_count": null,
   "metadata": {},
   "outputs": [],
   "source": [
    "evec = M_gamma_evecs[:, 12]\n",
    "hvec = np.dot(M_gamma, evec)\n",
    "\n",
    "sign_evec = np.sign(evec)\n",
    "hvec_signed = np.dot(M_gamma, sign_evec)\n",
    "sign_hvec_signed = np.sign(hvec_signed)\n",
    "error_signed = sign_hvec_signed - sign_evec\n",
    "\n",
    "plot_evec_as_lattice(error_signed, num_cells_loc, num_genes_loc, sidelength, norm=True)"
   ]
  },
  {
   "cell_type": "markdown",
   "metadata": {},
   "source": [
    "## Plot particular state as eigenvector decomposition in lattice format"
   ]
  },
  {
   "cell_type": "code",
   "execution_count": null,
   "metadata": {},
   "outputs": [],
   "source": [
    "# see explore_aligned.ipynb notebook"
   ]
  },
  {
   "cell_type": "markdown",
   "metadata": {},
   "source": [
    "## (Widget) Load manyruns template: Vary gamma, all else fixed"
   ]
  },
  {
   "cell_type": "markdown",
   "metadata": {},
   "source": [
    "*Example widget:* https://stackoverflow.com/questions/44329068/jupyter-notebook-interactive-plot-with-widgets"
   ]
  },
  {
   "cell_type": "code",
   "execution_count": null,
   "metadata": {},
   "outputs": [],
   "source": [
    "# CHOICES\n",
    "manyruns_label = 'W1_gamma1.00_10k_periodic_R1_p3_M100_machineEps'\n",
    "#manyruns_label = 'Wrandom0_gamma0.00_10k_p3_M100'\n",
    "dy = 0.05\n",
    "gamma_max = 2.0\n",
    "\n",
    "# 1) access specific manyrun (gives access to multicell pkl file)\n",
    "manyruns_dirpath = manyruns + os.sep + manyruns_label\n",
    "multicell_pkl_path = manyruns_dirpath + os.sep + 'multicell_template.pkl'\n",
    "with open(multicell_pkl_path, 'rb') as pickle_file:\n",
    "    multicell_template = pickle.load(pickle_file)  # unpickling multicell object\n",
    "\n",
    "# 2) construct gamma range\n",
    "gamma_vals = np.arange(0.0, gamma_max + dy, dy)"
   ]
  },
  {
   "cell_type": "code",
   "execution_count": null,
   "metadata": {},
   "outputs": [],
   "source": [
    "# settings\n",
    "show_legend = True\n",
    "init = 0.0\n",
    "\n",
    "fig = plt.figure()\n",
    "ax = fig.add_subplot(1, 1, 1)\n",
    "# labels\n",
    "fig.suptitle(r'Spectrum of $J_{\\mathrm{multicell}}$ for varying $\\gamma$', fontsize=12)\n",
    "plt.title('Run: %s' % manyruns_label, fontsize=10)\n",
    "plt.xlabel('rank of $\\lambda$')\n",
    "plt.ylabel('$\\lambda$')\n",
    "# grid settings\n",
    "plt.grid(True)\n",
    "plt.rc('axes', axisbelow=True)\n",
    "# zero line\n",
    "plt.axhline(0)\n",
    "\n",
    "def update(gamma = 1.0):\n",
    "    J_multicell = J_multicell_from_class(multicell_template, gamma, plot=False)\n",
    "    get_and_plot_evals(J_multicell, gamma)\n",
    "    if show_legend:\n",
    "        plt.legend()\n",
    "    plt.xlim(0,20)\n",
    "    return\n",
    "\n",
    "interact(update, gamma=widgets.Dropdown(options=gamma_vals, value=init))"
   ]
  },
  {
   "cell_type": "code",
   "execution_count": null,
   "metadata": {},
   "outputs": [],
   "source": [
    "#interact(update, gamma=widgets.FloatSlider(min=0, max=30, step=0.05, value=0))\n",
    "interact(update, gamma=widgets.FloatSlider(min=0, max=gamma_max, step=dy, value=0))"
   ]
  },
  {
   "cell_type": "markdown",
   "metadata": {},
   "source": [
    "**Plot eigenvectors**"
   ]
  },
  {
   "cell_type": "code",
   "execution_count": null,
   "metadata": {},
   "outputs": [],
   "source": [
    "indices = np.arange(0,10)"
   ]
  },
  {
   "cell_type": "code",
   "execution_count": null,
   "metadata": {},
   "outputs": [],
   "source": [
    "gamma_check = 0.0\n",
    "J_multicell = J_multicell_from_class(multicell, gamma_check, plot=False)\n",
    "evals, evecs = sorted_eig(J_multicell, take_real=True, big_to_small=True)\n",
    "show_evecs_range(evecs, evals, indices, forcelims=False, figsize=(10,10), imshow=True)"
   ]
  },
  {
   "cell_type": "code",
   "execution_count": null,
   "metadata": {},
   "outputs": [],
   "source": [
    "gamma_check = 0.0\n",
    "J_multicell = J_multicell_from_class(multicell, gamma_check, plot=False)\n",
    "evals, evecs = sorted_eig(J_multicell, take_real=True, big_to_small=True)\n",
    "show_evecs_range(evecs, evals, indices, forcelims=False, figsize=(10,10), imshow=False)"
   ]
  },
  {
   "cell_type": "code",
   "execution_count": null,
   "metadata": {},
   "outputs": [],
   "source": [
    "gamma_check = 0.05\n",
    "J_multicell = J_multicell_from_class(multicell, gamma_check, plot=False)\n",
    "evals, evecs = sorted_eig(J_multicell, take_real=True, big_to_small=True)\n",
    "show_n_evecs(evecs, evals, indices, forcelims=True, imshow=True)"
   ]
  },
  {
   "cell_type": "code",
   "execution_count": null,
   "metadata": {},
   "outputs": [],
   "source": []
  },
  {
   "cell_type": "code",
   "execution_count": null,
   "metadata": {},
   "outputs": [],
   "source": []
  },
  {
   "cell_type": "code",
   "execution_count": null,
   "metadata": {},
   "outputs": [],
   "source": []
  },
  {
   "cell_type": "markdown",
   "metadata": {},
   "source": [
    "# Arbitrary matrix analysis: M = I x J + A x W"
   ]
  },
  {
   "cell_type": "code",
   "execution_count": null,
   "metadata": {},
   "outputs": [],
   "source": [
    "num_genes = 9\n",
    "num_cells = 4\n",
    "autocrine = False\n",
    "remove_J_diag = True\n",
    "\n",
    "plot_all = False"
   ]
  },
  {
   "cell_type": "code",
   "execution_count": null,
   "metadata": {},
   "outputs": [],
   "source": []
  },
  {
   "cell_type": "markdown",
   "metadata": {},
   "source": [
    "**J all ones, W identity, A all ones**"
   ]
  },
  {
   "cell_type": "code",
   "execution_count": null,
   "metadata": {},
   "outputs": [],
   "source": [
    "J = np.ones((num_genes, num_genes))\n",
    "if remove_J_diag:\n",
    "    J = J - np.diag(np.diag(J))\n",
    "\n",
    "if plot_all:\n",
    "    plt.imshow(J, cmap='bwr')\n",
    "    plt.title('$J_{singlecell}$, remove_J_diag=%s' % remove_J_diag)\n",
    "    plt.show()"
   ]
  },
  {
   "cell_type": "code",
   "execution_count": null,
   "metadata": {},
   "outputs": [],
   "source": [
    "A = np.ones((num_cells, num_cells))\n",
    "if not autocrine:\n",
    "    A = A - np.diag(np.diag(A))\n",
    "    \n",
    "if plot_all:\n",
    "    plt.clf()\n",
    "    plt.imshow(A, cmap='bwr')\n",
    "    plt.title('$A$ (adjacency), autocrine=%s' % autocrine)\n",
    "    plt.show()"
   ]
  },
  {
   "cell_type": "code",
   "execution_count": null,
   "metadata": {},
   "outputs": [],
   "source": [
    "W = np.eye(num_genes)\n",
    "\n",
    "if plot_all:\n",
    "    plt.clf()\n",
    "    plt.imshow(W, cmap='bwr')\n",
    "    plt.title('$W$ (signalling)')\n",
    "    plt.show()"
   ]
  },
  {
   "cell_type": "code",
   "execution_count": null,
   "metadata": {},
   "outputs": [],
   "source": [
    "gamma = 2.0\n",
    "M = J_multicell_manual(gamma, J, A, W, autocrine=autocrine, plot=plot_all)"
   ]
  },
  {
   "cell_type": "code",
   "execution_count": null,
   "metadata": {},
   "outputs": [],
   "source": [
    "plot_all_4(J, W, A, M)"
   ]
  },
  {
   "cell_type": "code",
   "execution_count": null,
   "metadata": {},
   "outputs": [],
   "source": [
    "evals, evecs = sorted_eig(M, take_real=True, big_to_small=True)"
   ]
  },
  {
   "cell_type": "code",
   "execution_count": null,
   "metadata": {},
   "outputs": [],
   "source": [
    "indices = np.arange(10)\n",
    "show_evecs_range(evecs, evals, indices, forcelims=False, figsize=(10,10), imshow=True)"
   ]
  },
  {
   "cell_type": "code",
   "execution_count": null,
   "metadata": {},
   "outputs": [],
   "source": [
    "indices=[0]\n",
    "show_evecs_range(evecs, evals, indices, forcelims=False, figsize=(10,10), imshow=False)"
   ]
  },
  {
   "cell_type": "code",
   "execution_count": null,
   "metadata": {},
   "outputs": [],
   "source": [
    "evalsdict = {(0,0): {'arr': J, \n",
    "                     'title': r'Spectrum: $\\bf{J_0}$',\n",
    "                     'evals': sorted_eig(J, take_real=True, big_to_small=True)[0]},\n",
    "             (0,1): {'arr': W, \n",
    "                     'title': r'Spectrum: $\\bf{W}$',\n",
    "                     'evals': sorted_eig(W, take_real=True, big_to_small=True)[0]},\n",
    "             (1,0): {'arr': A, \n",
    "                     'title': r'Spectrum: $\\bf{A}$',\n",
    "                     'evals': sorted_eig(A, take_real=True, big_to_small=True)[0]},\n",
    "             (1,1): {'arr': M, \n",
    "                     'title': r'Spectrum: $\\bf{J_{multicell} = I \\otimes J_0 + A \\otimes W}$',\n",
    "                     'evals': sorted_eig(M, take_real=True, big_to_small=True)[0]},\n",
    "            }"
   ]
  },
  {
   "cell_type": "code",
   "execution_count": null,
   "metadata": {},
   "outputs": [],
   "source": [
    "fig, ax = plt.subplots(2,2, figsize=(10,9))\n",
    "xlabel = 'rank of $\\lambda$'\n",
    "ylabel = '$\\lambda$'\n",
    "\n",
    "for k, v in evalsdict.items():    \n",
    "    plot_evals_rank(ax[k], v['evals'], gamma)\n",
    "    ax[k].set_title(v['title'])\n",
    "    ax[k].set_xlabel(xlabel)\n",
    "    ax[k].set_ylabel(ylabel)\n",
    "\n",
    "plt.suptitle('$\\gamma=%.4f$' % gamma)\n",
    "plt.subplots_adjust(hspace=0.3, wspace=0.3)\n",
    "plt.show()"
   ]
  },
  {
   "cell_type": "code",
   "execution_count": null,
   "metadata": {},
   "outputs": [],
   "source": [
    "fig, ax = plt.subplots(2,2, figsize=(10,9))\n",
    "xlabel = '$\\lambda$'\n",
    "ylabel = 'Events'\n",
    "\n",
    "for k, v in evalsdict.items():    \n",
    "    plot_evals_hist(ax[k], v['evals'], gamma)\n",
    "    ax[k].set_title(v['title'])\n",
    "    ax[k].set_xlabel(xlabel)\n",
    "    ax[k].set_ylabel(ylabel)\n",
    "\n",
    "plt.suptitle('$\\gamma=%.4f$' % gamma)\n",
    "plt.subplots_adjust(hspace=0.3, wspace=0.3)\n",
    "plt.show()"
   ]
  },
  {
   "cell_type": "code",
   "execution_count": null,
   "metadata": {},
   "outputs": [],
   "source": [
    "get_and_plot_evals(M, gamma)"
   ]
  },
  {
   "cell_type": "markdown",
   "metadata": {},
   "source": [
    "***Loop over different gamma, recording the spectrum at each point***"
   ]
  },
  {
   "cell_type": "code",
   "execution_count": null,
   "metadata": {},
   "outputs": [],
   "source": [
    "gamma_space = [0.0, 0.5, 1.0, 2.0, 5.0, 10.0, 20.0, 100.0, 2000.0]"
   ]
  },
  {
   "cell_type": "code",
   "execution_count": null,
   "metadata": {},
   "outputs": [],
   "source": [
    "for idx, g in enumerate(gamma_space):\n",
    "    M_gamma = J_multicell_manual(g, J, A, W, autocrine=autocrine, plot=False)\n",
    "    M_gamma_evals, M_gamma_eig = sorted_eig(M_gamma, take_real=True, big_to_small=True)\n",
    "    title_gamma = r'Spectrum: $\\bf{J_{multicell} = I \\otimes J_0 + A \\otimes W}$, $\\gamma=%.4f$' % g\n",
    "    \n",
    "    fig, ax = plt.subplots(1,1, figsize=(5,4))\n",
    "    \n",
    "    plot_evals_rank(ax, M_gamma_evals, g)\n",
    "    ax.set_title(title_gamma)\n",
    "    ax.set_xlabel('rank of $\\lambda$')\n",
    "    ax.set_ylabel('$\\lambda$')\n",
    "    \n",
    "    \n",
    "    #plt.suptitle('$\\gamma=%.4f$' % g)\n",
    "    plt.subplots_adjust(hspace=0.3, wspace=0.3)\n",
    "    plt.show()\n",
    "                 "
   ]
  },
  {
   "cell_type": "code",
   "execution_count": null,
   "metadata": {},
   "outputs": [],
   "source": [
    "ndim = num_cells * num_genes\n",
    "#indices = np.arange(ndim)\n",
    "indices = np.arange(4)\n",
    "\n",
    "for idx, g in enumerate(gamma_space):\n",
    "    M_gamma = J_multicell_manual(g, J, A, W, autocrine=autocrine, plot=False)\n",
    "    M_gamma_evals, M_gamma_eig = sorted_eig(M_gamma, take_real=True, big_to_small=True)\n",
    "    title_gamma = r'Spectrum: $\\bf{J_{multicell} = I \\otimes J_0 + A \\otimes W}$, $\\gamma=%.4f$' % g\n",
    "    \n",
    "    plt.figure(figsize=(10,10))\n",
    "    ax = plt.gca()\n",
    "    ax = show_evecs_range(M_gamma_eig, M_gamma_evals, indices, forcelims=False, imshow=True, ax=ax)\n",
    "    \n",
    "    #plot_evals_rank(ax, M_gamma_evals, g)\n",
    "    ax.set_title(title_gamma)\n",
    "    ax.set_xlabel('rank of $\\lambda$')\n",
    "    ax.set_ylabel('spin index')\n",
    "    \n",
    "    #plt.suptitle('$\\gamma=%.4f$' % g)\n",
    "    #plt.subplots_adjust(hspace=0.3, wspace=0.3)\n",
    "    #plt.subplots_adjust(top=1, bottom=0, right=1, left=0, hspace=0, wspace=0)\n",
    "    \n",
    "    #plt.show()\n",
    "    plt.savefig(NOTEBOOK_OUTDIR + os.sep + 'manual_Jmulticell_evecs_g%.5f.png' % g, bbox_inches='tight')"
   ]
  },
  {
   "cell_type": "code",
   "execution_count": null,
   "metadata": {},
   "outputs": [],
   "source": []
  },
  {
   "cell_type": "code",
   "execution_count": null,
   "metadata": {},
   "outputs": [],
   "source": []
  }
 ],
 "metadata": {
  "kernelspec": {
   "display_name": "Python 3",
   "language": "python",
   "name": "python3"
  },
  "language_info": {
   "codemirror_mode": {
    "name": "ipython",
    "version": 3
   },
   "file_extension": ".py",
   "mimetype": "text/x-python",
   "name": "python",
   "nbconvert_exporter": "python",
   "pygments_lexer": "ipython3",
   "version": "3.8.7"
  },
  "pycharm": {
   "stem_cell": {
    "cell_type": "raw",
    "metadata": {
     "collapsed": false
    },
    "source": []
   }
  }
 },
 "nbformat": 4,
 "nbformat_minor": 1
}

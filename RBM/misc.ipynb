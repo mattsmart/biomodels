{
 "cells": [
  {
   "cell_type": "code",
   "execution_count": 232,
   "metadata": {},
   "outputs": [],
   "source": [
    "import matplotlib.pyplot as plt\n",
    "import numpy as np\n",
    "from os import sep\n",
    "\n",
    "from settings import DIR_DATA, DIR_OUTPUT, DIR_MODELS\n",
    "from plotting import image_fancy"
   ]
  },
  {
   "cell_type": "markdown",
   "metadata": {},
   "source": [
    "# Nov 10 - Build and save PCA on dataset"
   ]
  },
  {
   "cell_type": "code",
   "execution_count": 233,
   "metadata": {},
   "outputs": [
    {
     "name": "stdout",
     "output_type": "stream",
     "text": [
      "Processing MNIST data: numpy_binarize = True\n"
     ]
    }
   ],
   "source": [
    "import matplotlib.pyplot as plt\n",
    "import numpy as np\n",
    "from sklearn.decomposition import PCA\n",
    "\n",
    "from data_process import data_mnist, binarize_image_data, image_data_collapse\n",
    "from settings import MNIST_BINARIZATION_CUTOFF\n",
    "\n",
    "\n",
    "TRAINING, TESTING = data_mnist(binarize=True)\n",
    "num_features = TRAINING[0][0].shape[0] ** 2\n",
    "num_samples = len(TRAINING)\n",
    "\n",
    "\n",
    "def PCA_on_dataset(num_samples, num_features, dataset=None, binarize=True, X=None):\n",
    "\n",
    "    def get_X(dataset):\n",
    "        X = np.zeros((len(dataset), num_features))\n",
    "        for idx, pair in enumerate(dataset):\n",
    "            elem_arr, elem_label = pair\n",
    "            preprocessed_input = image_data_collapse(elem_arr)\n",
    "            #if binarize:\n",
    "            #    preprocessed_input = binarize_image_data(preprocessed_input, threshold=MNIST_BINARIZATION_CUTOFF)\n",
    "            features = preprocessed_input\n",
    "            X[idx, :] = features\n",
    "        return X\n",
    "    \n",
    "    if X is None:\n",
    "        X = get_X(dataset)\n",
    "    \n",
    "    pca = PCA(n_components=None, svd_solver='full')\n",
    "    pca.fit(X)\n",
    "    return pca    "
   ]
  },
  {
   "cell_type": "code",
   "execution_count": 5,
   "metadata": {},
   "outputs": [],
   "source": [
    "pca = PCA_on_dataset(num_samples, num_features, dataset=TRAINING)\n",
    "pca_weights = pca.components_  # each ROW of the pca weights is like a pattern"
   ]
  },
  {
   "cell_type": "code",
   "execution_count": 6,
   "metadata": {},
   "outputs": [
    {
     "ename": "NameError",
     "evalue": "name 'os' is not defined",
     "output_type": "error",
     "traceback": [
      "\u001b[1;31m---------------------------------------------------------------------------\u001b[0m",
      "\u001b[1;31mNameError\u001b[0m                                 Traceback (most recent call last)",
      "\u001b[1;32m<ipython-input-6-b9c62ec4a080>\u001b[0m in \u001b[0;36m<module>\u001b[1;34m\u001b[0m\n\u001b[0;32m      1\u001b[0m \u001b[1;31m# SAVE (transposed version)\u001b[0m\u001b[1;33m\u001b[0m\u001b[1;33m\u001b[0m\u001b[1;33m\u001b[0m\u001b[0m\n\u001b[1;32m----> 2\u001b[1;33m \u001b[0mfpath\u001b[0m \u001b[1;33m=\u001b[0m \u001b[0mDIR_MODELS\u001b[0m \u001b[1;33m+\u001b[0m \u001b[0mos\u001b[0m\u001b[1;33m.\u001b[0m\u001b[0msep\u001b[0m \u001b[1;33m+\u001b[0m \u001b[1;34m'pca_binarized_raw.npz'\u001b[0m\u001b[1;33m\u001b[0m\u001b[1;33m\u001b[0m\u001b[0m\n\u001b[0m\u001b[0;32m      3\u001b[0m \u001b[0mnp\u001b[0m\u001b[1;33m.\u001b[0m\u001b[0msavez\u001b[0m\u001b[1;33m(\u001b[0m\u001b[0mfpath\u001b[0m\u001b[1;33m,\u001b[0m \u001b[0mpca_weights\u001b[0m\u001b[1;33m=\u001b[0m\u001b[0mpca_weights\u001b[0m\u001b[1;33m.\u001b[0m\u001b[0mT\u001b[0m\u001b[1;33m)\u001b[0m\u001b[1;33m\u001b[0m\u001b[1;33m\u001b[0m\u001b[0m\n",
      "\u001b[1;31mNameError\u001b[0m: name 'os' is not defined"
     ]
    }
   ],
   "source": [
    "# SAVE (transposed version)\n",
    "fpath = DIR_MODELS + sep + 'pca_binarized_raw.npz'\n",
    "np.savez(fpath, pca_weights=pca_weights.T)"
   ]
  },
  {
   "cell_type": "code",
   "execution_count": null,
   "metadata": {},
   "outputs": [],
   "source": [
    "# LOAD\n",
    "with open(fpath, 'rb') as f:\n",
    "    pca_weights = np.load(fpath)['pca_weights']\n",
    "    print(pca_weights)"
   ]
  },
  {
   "cell_type": "code",
   "execution_count": null,
   "metadata": {},
   "outputs": [],
   "source": [
    "print(pca_weights.shape)\n",
    "for idx in range(2):\n",
    "    plt.imshow(pca_weights[:, idx].reshape(28,28))\n",
    "    plt.show()"
   ]
  },
  {
   "cell_type": "code",
   "execution_count": 41,
   "metadata": {},
   "outputs": [
    {
     "name": "stdout",
     "output_type": "stream",
     "text": [
      "(784, 784)\n",
      "(28, 28, 784)\n"
     ]
    },
    {
     "data": {
      "image/png": "[encoded data removed]",
      "text/plain": [
       "<Figure size 432x288 with 1 Axes>"
      ]
     },
     "metadata": {},
     "output_type": "display_data"
    },
    {
     "data": {
      "image/png": "[encoded data removed]",
      "text/plain": [
       "<Figure size 432x288 with 1 Axes>"
      ]
     },
     "metadata": {},
     "output_type": "display_data"
    }
   ],
   "source": [
    "a = pca_weights.reshape(28,28,-1)\n",
    "print(pca_weights.shape)\n",
    "print(a.shape)\n",
    "for idx in range(2):\n",
    "    plt.imshow(a[:, :, idx])\n",
    "    plt.show()"
   ]
  },
  {
   "cell_type": "code",
   "execution_count": null,
   "metadata": {},
   "outputs": [],
   "source": [
    "from RBM_train import load_rbm_hopfield\n",
    "\n",
    "k_pattern = 12\n",
    "fname = 'hopfield_mnist_%d0_PCA.npz' % k_pattern\n",
    "rbm = load_rbm_hopfield(npzpath=DIR_MODELS + os.sep + 'saved' + os.sep + fname)"
   ]
  },
  {
   "cell_type": "code",
   "execution_count": null,
   "metadata": {},
   "outputs": [],
   "source": [
    "rbm_weights = rbm.internal_weights\n",
    "print(rbm_weights.shape)\n",
    "for idx in range(2):\n",
    "    plt.imshow(rbm_weights[:, idx].reshape(28,28))\n",
    "    plt.show()"
   ]
  },
  {
   "cell_type": "markdown",
   "metadata": {},
   "source": [
    "# Nov 13 - For each digit (so 10x) Build and save PCA on dataset"
   ]
  },
  {
   "cell_type": "code",
   "execution_count": 20,
   "metadata": {},
   "outputs": [
    {
     "name": "stdout",
     "output_type": "stream",
     "text": [
      "category_counts:\n",
      " {5: 5421, 0: 5923, 4: 5842, 1: 6742, 9: 5949, 2: 5958, 3: 6131, 6: 5918, 7: 6265, 8: 5851}\n",
      "Generating MNIST data dict\n",
      "(5923, 784)\n",
      "(6742, 784)\n",
      "(5958, 784)\n",
      "(6131, 784)\n",
      "(5842, 784)\n",
      "(5421, 784)\n",
      "(5918, 784)\n",
      "(6265, 784)\n",
      "(5851, 784)\n",
      "(5949, 784)\n"
     ]
    }
   ],
   "source": [
    "from data_process import data_dict_mnist\n",
    "\n",
    "\n",
    "# data_dict has the form: \n",
    "#    data_dict[0] = 28 x 28 x n0  of n0 '0' samples\n",
    "#    data_dict[4] = 28 x 28 x n4  of n4 '4' samples\n",
    "data_dict, category_counts = data_dict_mnist(TRAINING)\n",
    "\n",
    "for idx in range(10):\n",
    "    X = data_dict[idx].reshape((28**2, -1)).transpose()\n",
    "    print(X.shape)\n",
    "    num_samples = X.shape[0]\n",
    "    num_features = X.shape[1]\n",
    "    \n",
    "    pca = PCA_on_dataset(num_samples, num_features, dataset=None, binarize=True, X=X)\n",
    "    pca_weights = pca.components_  # each ROW of the pca weights is like a pattern\n",
    "    \n",
    "    # SAVE (transposed version)\n",
    "    fpath = DIR_MODELS + sep + 'pca_binarized_raw_digit%d.npz' % idx\n",
    "    np.savez(fpath, pca_weights=pca_weights.T)"
   ]
  },
  {
   "cell_type": "code",
   "execution_count": 23,
   "metadata": {},
   "outputs": [
    {
     "name": "stdout",
     "output_type": "stream",
     "text": [
      "[[-8.54285010e-19  1.70207739e-18  7.25777362e-20 ...  0.00000000e+00\n",
      "   0.00000000e+00 -0.00000000e+00]\n",
      " [-1.66533454e-16 -1.11022302e-16 -3.12250226e-17 ...  1.27313923e-02\n",
      "  -1.03826861e-01  3.57731681e-02]\n",
      " [-2.22044605e-16 -2.77555756e-16  6.88468380e-18 ...  6.07524881e-02\n",
      "   7.95052795e-02 -1.44445722e-02]\n",
      " ...\n",
      " [-0.00000000e+00  0.00000000e+00 -0.00000000e+00 ...  0.00000000e+00\n",
      "   0.00000000e+00 -0.00000000e+00]\n",
      " [-0.00000000e+00  0.00000000e+00 -0.00000000e+00 ...  0.00000000e+00\n",
      "   0.00000000e+00 -0.00000000e+00]\n",
      " [-0.00000000e+00  0.00000000e+00 -0.00000000e+00 ...  0.00000000e+00\n",
      "   0.00000000e+00 -0.00000000e+00]]\n",
      "(784, 784)\n"
     ]
    },
    {
     "data": {
      "image/png": "[encoded data removed]",
      "text/plain": [
       "<Figure size 432x288 with 1 Axes>"
      ]
     },
     "metadata": {
      "needs_background": "light"
     },
     "output_type": "display_data"
    },
    {
     "data": {
      "image/png": "[encoded data removed]",
      "text/plain": [
       "<Figure size 432x288 with 1 Axes>"
      ]
     },
     "metadata": {
      "needs_background": "light"
     },
     "output_type": "display_data"
    },
    {
     "name": "stdout",
     "output_type": "stream",
     "text": [
      "(784, 784)\n",
      "(28, 28, 784)\n"
     ]
    },
    {
     "data": {
      "image/png": "[encoded data removed]",
      "text/plain": [
       "<Figure size 432x288 with 2 Axes>"
      ]
     },
     "metadata": {
      "needs_background": "light"
     },
     "output_type": "display_data"
    },
    {
     "data": {
      "image/png": "[encoded data removed]",
      "text/plain": [
       "<Figure size 432x288 with 2 Axes>"
      ]
     },
     "metadata": {
      "needs_background": "light"
     },
     "output_type": "display_data"
    }
   ],
   "source": [
    "# LOAD\n",
    "fpath = DIR_MODELS + sep + 'pca_binarized_raw_digit7.npz'\n",
    "with open(fpath, 'rb') as f:\n",
    "    pca_weights = np.load(fpath)['pca_weights']\n",
    "    print(pca_weights)\n",
    "    \n",
    "print(pca_weights.shape)\n",
    "for idx in range(2):\n",
    "    plt.imshow(pca_weights[:, idx].reshape(28,28))\n",
    "    plt.colorbar()\n",
    "    plt.show()\n",
    "    \n",
    "    \n",
    "a = pca_weights.reshape(28,28,-1)\n",
    "print(pca_weights.shape)\n",
    "print(a.shape)\n",
    "for idx in range(2):\n",
    "    plt.imshow(a[:, :, idx])\n",
    "    plt.show()"
   ]
  },
  {
   "cell_type": "markdown",
   "metadata": {},
   "source": [
    "# Inspect models/poe npz files"
   ]
  },
  {
   "cell_type": "code",
   "execution_count": 34,
   "metadata": {},
   "outputs": [
    {
     "name": "stdout",
     "output_type": "stream",
     "text": [
      "['Q', 'proj_remainder', 'pattern_labels', 'xi_image']\n"
     ]
    },
    {
     "data": {
      "image/png": "[encoded data removed]",
      "text/plain": [
       "<Figure size 432x288 with 1 Axes>"
      ]
     },
     "metadata": {
      "needs_background": "light"
     },
     "output_type": "display_data"
    },
    {
     "data": {
      "image/png": "[encoded data removed]",
      "text/plain": [
       "<Figure size 432x288 with 1 Axes>"
      ]
     },
     "metadata": {
      "needs_background": "light"
     },
     "output_type": "display_data"
    },
    {
     "data": {
      "image/png": "[encoded data removed]",
      "text/plain": [
       "<Figure size 432x288 with 1 Axes>"
      ]
     },
     "metadata": {
      "needs_background": "light"
     },
     "output_type": "display_data"
    }
   ],
   "source": [
    "DIR_POE = 'models' + sep + 'poe'\n",
    "fpath = DIR_POE + sep + 'hopfield_digit3_p1000_1000_pca.npz'\n",
    "with open(fpath, 'rb') as f:\n",
    "    fcontents = np.load(fpath)\n",
    "    print(fcontents.files)\n",
    "    weights = fcontents['Q']\n",
    "    for idx in range(3):\n",
    "        plt.imshow(weights[:, idx].reshape(28, 28))\n",
    "        plt.show()"
   ]
  },
  {
   "cell_type": "markdown",
   "metadata": {},
   "source": [
    "# Nov 15 - Distribution of images in the dataset"
   ]
  },
  {
   "cell_type": "code",
   "execution_count": 3,
   "metadata": {},
   "outputs": [
    {
     "name": "stdout",
     "output_type": "stream",
     "text": [
      "Processing MNIST data: numpy_binarize = False\n",
      "category_counts:\n",
      " {5: 5421, 0: 5923, 4: 5842, 1: 6742, 9: 5949, 2: 5958, 3: 6131, 6: 5918, 7: 6265, 8: 5851}\n",
      "Generating MNIST data dict\n"
     ]
    }
   ],
   "source": [
    "from data_process import data_dict_mnist\n",
    "from RBM_train import load_rbm_hopfield\n",
    "\n",
    "# data_dict has the form: \n",
    "#    data_dict[0] = 28 x 28 x n0  of n0 '0' samples\n",
    "#    data_dict[4] = 28 x 28 x n4  of n4 '4' samples\n",
    "data_dict, category_counts = data_dict_mnist(TRAINING)"
   ]
  },
  {
   "cell_type": "code",
   "execution_count": 4,
   "metadata": {},
   "outputs": [
    {
     "name": "stdout",
     "output_type": "stream",
     "text": [
      "LOADING: models\\saved\\hopfield_mnist_10_hebbian.npz\n"
     ]
    }
   ],
   "source": [
    "# load 10 target patterns\n",
    "k_choice = 1\n",
    "p = k_choice * 10\n",
    "N = 28**2\n",
    "fname = 'hopfield_mnist_%d0%s.npz' % (k_choice, '_hebbian')\n",
    "rbm_hebbian = load_rbm_hopfield(npzpath='models' + sep + 'saved' + sep + fname)\n",
    "weights_hebbian = rbm_hebbian.internal_weights\n",
    "XI = weights_hebbian\n",
    "PATTERNS = weights_hebbian * np.sqrt(N)"
   ]
  },
  {
   "cell_type": "code",
   "execution_count": 5,
   "metadata": {},
   "outputs": [
    {
     "data": {
      "image/png": "[encoded data removed]",
      "text/plain": [
       "<Figure size 432x288 with 2 Axes>"
      ]
     },
     "metadata": {
      "needs_background": "light"
     },
     "output_type": "display_data"
    },
    {
     "data": {
      "image/png": "[encoded data removed]",
      "text/plain": [
       "<Figure size 432x288 with 2 Axes>"
      ]
     },
     "metadata": {
      "needs_background": "light"
     },
     "output_type": "display_data"
    },
    {
     "data": {
      "image/png": "[encoded data removed]",
      "text/plain": [
       "<Figure size 432x288 with 2 Axes>"
      ]
     },
     "metadata": {
      "needs_background": "light"
     },
     "output_type": "display_data"
    },
    {
     "data": {
      "image/png": "[encoded data removed]",
      "text/plain": [
       "<Figure size 432x288 with 2 Axes>"
      ]
     },
     "metadata": {
      "needs_background": "light"
     },
     "output_type": "display_data"
    },
    {
     "data": {
      "image/png": "[encoded data removed]",
      "text/plain": [
       "<Figure size 432x288 with 2 Axes>"
      ]
     },
     "metadata": {
      "needs_background": "light"
     },
     "output_type": "display_data"
    },
    {
     "data": {
      "image/png": "[encoded data removed]",
      "text/plain": [
       "<Figure size 432x288 with 2 Axes>"
      ]
     },
     "metadata": {
      "needs_background": "light"
     },
     "output_type": "display_data"
    },
    {
     "data": {
      "image/png": "[encoded data removed]",
      "text/plain": [
       "<Figure size 432x288 with 2 Axes>"
      ]
     },
     "metadata": {
      "needs_background": "light"
     },
     "output_type": "display_data"
    },
    {
     "data": {
      "image/png": "[encoded data removed]",
      "text/plain": [
       "<Figure size 432x288 with 2 Axes>"
      ]
     },
     "metadata": {
      "needs_background": "light"
     },
     "output_type": "display_data"
    },
    {
     "data": {
      "image/png": "[encoded data removed]",
      "text/plain": [
       "<Figure size 432x288 with 2 Axes>"
      ]
     },
     "metadata": {
      "needs_background": "light"
     },
     "output_type": "display_data"
    },
    {
     "data": {
      "image/png": "[encoded data removed]",
      "text/plain": [
       "<Figure size 432x288 with 2 Axes>"
      ]
     },
     "metadata": {
      "needs_background": "light"
     },
     "output_type": "display_data"
    }
   ],
   "source": [
    "for mu in range(p):\n",
    "    pattern_mu = PATTERNS[:, mu] * np.sqrt(N)\n",
    "    #plt.figure(figsize=(2,12))\n",
    "    plt.imshow(pattern_mu.reshape(28,28), interpolation='None')\n",
    "    plt.colorbar()\n",
    "    plt.show()"
   ]
  },
  {
   "cell_type": "code",
   "execution_count": 15,
   "metadata": {},
   "outputs": [],
   "source": [
    "# PLAN: for each class\n",
    "#  1) look at all data from the class\n",
    "#  2) look at hamming distance of each digit from the class (max 28^2=784)\n",
    "#  3) ...\n",
    "\n",
    "def hamming_distance(x, y):\n",
    "    prod = x * y\n",
    "    dist = 0.5 * np.sum(1 - prod)\n",
    "    return dist\n",
    "\n",
    "\n",
    "def build_Jij(patterns):\n",
    "    # TODO remove self-interactions? no RBM has them\n",
    "    A = np.dot(patterns.T, patterns)\n",
    "    A_inv = np.linalg.inv(A)\n",
    "    Jij = np.dot(patterns, \n",
    "                 np.dot(A_inv, patterns.T))\n",
    "    return Jij\n",
    "\n",
    "J_INTXN = build_Jij(PATTERNS)\n",
    "               \n",
    "def energy_fn(state_vector):\n",
    "    scaled_energy = -0.5 * np.dot(state_vector,\n",
    "                                  np.dot(J_INTXN, state_vector))\n",
    "    return scaled_energy\n",
    "           \n",
    "def get_hamming_histogram(X, target_state):\n",
    "    # given matrix of states, compute distance to the target state for all\n",
    "    # plot the histogram\n",
    "    if len(X.shape) == 3:\n",
    "        assert X.shape[0] == 28 and X.shape[1] == 28\n",
    "        X = X.reshape(28**2, -1)\n",
    "    num_pts = X.shape[-1]\n",
    "    dists = np.zeros(num_pts)\n",
    "    for idx in range(num_pts):\n",
    "        dists[idx] = hamming_distance(X[:, idx], target_state)\n",
    "    return dists\n",
    "\n",
    "\n",
    "def get_energy_histogram(X, target_state):\n",
    "    # given matrix of states, compute distance to the target state for all\n",
    "    # plot the histogram\n",
    "    if len(X.shape) == 3:\n",
    "        assert X.shape[0] == 28 and X.shape[1] == 28\n",
    "        X = X.reshape(28**2, -1)\n",
    "    num_pts = X.shape[-1]\n",
    "    energies = np.zeros(num_pts)\n",
    "    for idx in range(num_pts):\n",
    "        energies[idx] = energy_fn(X[:, idx])\n",
    "    return energies\n",
    "\n"
   ]
  },
  {
   "cell_type": "markdown",
   "metadata": {},
   "source": [
    "Gather data"
   ]
  },
  {
   "cell_type": "code",
   "execution_count": 11,
   "metadata": {},
   "outputs": [
    {
     "name": "stdout",
     "output_type": "stream",
     "text": [
      "class 0: min dist = 29, max dist = 207\n",
      "class 1: min dist = 10, max dist = 174\n",
      "class 2: min dist = 37, max dist = 201\n",
      "class 3: min dist = 33, max dist = 202\n",
      "class 4: min dist = 36, max dist = 221\n",
      "class 5: min dist = 44, max dist = 217\n",
      "class 6: min dist = 15, max dist = 229\n",
      "class 7: min dist = 24, max dist = 212\n",
      "class 8: min dist = 21, max dist = 224\n",
      "class 9: min dist = 29, max dist = 234\n"
     ]
    }
   ],
   "source": [
    "#for idx in range(10):\n",
    "list_of_dists = []\n",
    "list_of_energies = []\n",
    "\n",
    "BETA = 2.0\n",
    "\n",
    "# pick get_hamming_histogram OR get_energy_histogram\n",
    "hist_fn = get_energy_histogram\n",
    "\n",
    "for mu in range(p):\n",
    "    target_state = PATTERNS[:, mu]\n",
    "\n",
    "    dists_mu = get_hamming_histogram(data_dict[mu], target_state)\n",
    "    print('class %d: min dist = %d, max dist = %d' % (mu, min(dists_mu), max(dists_mu)))\n",
    "    list_of_dists.append(dists_mu)\n",
    "    \n",
    "    energies_mu = get_energy_histogram(data_dict[mu], target_state)\n",
    "    list_of_energies.append(energies_mu)\n",
    "    \n",
    "    #boltz_mu = np.exp(- BETA * energies_mu)\n",
    "    #list_of_boltz.append(boltz_mu)\n",
    "    "
   ]
  },
  {
   "cell_type": "markdown",
   "metadata": {},
   "source": [
    "Plot data"
   ]
  },
  {
   "cell_type": "code",
   "execution_count": 17,
   "metadata": {},
   "outputs": [
    {
     "name": "stderr",
     "output_type": "stream",
     "text": [
      "c:\\users\\matts\\appdata\\local\\programs\\python\\python37\\lib\\site-packages\\ipykernel_launcher.py:56: RuntimeWarning: invalid value encountered in double_scalars\n"
     ]
    }
   ],
   "source": [
    "outdir = 'output' + sep + 'ICLR_nb'\n",
    "\n",
    "D_RANGE = (0,250)\n",
    "E_RANGE = (-0.5 * 28**2, -100)\n",
    "#B_RANGE = \n",
    "\n",
    "for mu in range(p):\n",
    "    dists_by_mu = list_of_dists[mu]\n",
    "    energies_by_mu = list_of_energies[mu]\n",
    "\n",
    "    #boltz_by_mu = list_of_boltz[mu]\n",
    "\n",
    "    n, bins, _ = plt.hist(dists_by_mu, range=D_RANGE, bins=50, density=True)\n",
    "    plt.title('hamming distances (pattern: %d)' % mu)\n",
    "    plt.savefig(outdir + sep + 'dist_hist_mu%d.jpg' % mu)\n",
    "    plt.close()\n",
    "    \n",
    "    plt.hist(energies_by_mu, range=E_RANGE, bins=50, density=True)\n",
    "    plt.title('energies (pattern: %d)' % mu)\n",
    "    plt.axvline(x=-0.5 * 28**2)\n",
    "    plt.savefig(outdir + sep + 'energy_hist_mu%d.jpg' % mu)   \n",
    "    plt.close()\n",
    "    \n",
    "    \n",
    "    scale_factors = np.array([rescaler(i) for i in bins[:-1]])\n",
    "    \n",
    "    \n",
    "    counts, bins = np.histogram(dists_by_mu, bins=50)\n",
    "    plt.hist(bins[:-1], bins, weights=scale_factors * counts)\n",
    "    #plt.hist(dists_by_mu, range=E_RANGE, bins=bins, density=True, weights=scale_factors)\n",
    "    plt.title('scaled dists (pattern: %d)' % mu)\n",
    "    #plt.axvline(x=-0.5 * 28**2)\n",
    "    plt.savefig(outdir + sep + 'scaled_dists_hist_mu%d.jpg' % mu)   \n",
    "    plt.close()\n",
    "    \n",
    "    \n",
    "    #plt.hist(boltz_by_mu, bins=50, density=True)\n",
    "    #plt.title('boltzmann weights (pattern: %d)' % mu)\n",
    "    #plt.savefig(outdir + sep + 'boltz_hist_mu%d.jpg' % mu)\n",
    "    #plt.close()\n",
    "    \n",
    "    "
   ]
  },
  {
   "cell_type": "code",
   "execution_count": 72,
   "metadata": {},
   "outputs": [
    {
     "name": "stdout",
     "output_type": "stream",
     "text": [
      "(28, 28, 6742)\n"
     ]
    },
    {
     "data": {
      "image/png": "[encoded data removed]",
      "text/plain": [
       "<Figure size 432x288 with 1 Axes>"
      ]
     },
     "metadata": {
      "needs_background": "light"
     },
     "output_type": "display_data"
    },
    {
     "data": {
      "image/png": "[encoded data removed]",
      "text/plain": [
       "<Figure size 432x288 with 1 Axes>"
      ]
     },
     "metadata": {
      "needs_background": "light"
     },
     "output_type": "display_data"
    },
    {
     "name": "stdout",
     "output_type": "stream",
     "text": [
      "42.0\n"
     ]
    }
   ],
   "source": [
    "idx_a = 7\n",
    "idx_b = 12\n",
    "\n",
    "print(data_dict[1].shape)\n",
    "x1 = data_dict[1][:,:,idx_a].reshape(28**2)\n",
    "x2 = data_dict[1][:,:,idx_b].reshape(28**2)\n",
    "plt.imshow(data_dict[1][:,:,idx_a])\n",
    "plt.show()\n",
    "plt.imshow(data_dict[1][:,:,idx_b])\n",
    "plt.show()\n",
    "\n",
    "hd = np.sum(1 - x1 * x2) * 0.5\n",
    "print(hd)"
   ]
  },
  {
   "cell_type": "markdown",
   "metadata": {},
   "source": [
    "# (Nov 16, 2020) Distance distribution rescaled by hamming shell area"
   ]
  },
  {
   "cell_type": "markdown",
   "metadata": {},
   "source": [
    "Want to rescale the observed data distance distibution by the 'volume' of states in 2^N space\n",
    "The number of states a distance d away from a given state is:\n",
    "$\\displaystyle n(d) = {N \\choose d}$\n",
    "e.g. $n(0)=1, n(1)=N=784, n(2)=N(N-1)/2 = 306936, ... , n(N)=1$.\n",
    "\n",
    "Note that: $n!=\\Gamma(n+1)$\n",
    "\n",
    "The (uniform) probability to be a distance $d$ away is then: $p(d) = 2^{-N} n(d)$"
   ]
  },
  {
   "cell_type": "code",
   "execution_count": 234,
   "metadata": {},
   "outputs": [
    {
     "name": "stdout",
     "output_type": "stream",
     "text": [
      "Example probabilities (log, direct):\n",
      "d=0 -543.4273895589972 9.828413039545451e-237\n",
      "d=1 -536.7629805386473 7.705475822999888e-234\n",
      "d=2 -530.792995023216 3.01669378470576e-231\n"
     ]
    },
    {
     "data": {
      "image/png": "[encoded data removed]",
      "text/plain": [
       "<Figure size 432x288 with 1 Axes>"
      ]
     },
     "metadata": {
      "needs_background": "light"
     },
     "output_type": "display_data"
    },
    {
     "data": {
      "image/png": "[encoded data removed]",
      "text/plain": [
       "<Figure size 432x288 with 1 Axes>"
      ]
     },
     "metadata": {
      "needs_background": "light"
     },
     "output_type": "display_data"
    }
   ],
   "source": [
    "N0 = 28**2\n",
    "\n",
    "from scipy.special import gamma, loggamma\n",
    "\n",
    "def N_choose_k(N, k):\n",
    "    num = gamma(N+1)\n",
    "    den = gamma(N - k + 1) * gamma(k+1) \n",
    "    return num / den\n",
    "    \n",
    "def log_uniform_dist_prob(d, N=N0):    \n",
    "    scale = -N *np.log(2)\n",
    "    num = loggamma(N+1)\n",
    "    den = loggamma(N - d + 1) + loggamma(d+1) \n",
    "    return scale + num - den\n",
    "\n",
    "print('Example probabilities (log, direct):')\n",
    "p0 = log_uniform_dist_prob(0, N=784)\n",
    "p1 = log_uniform_dist_prob(1, N=784)\n",
    "p2 = log_uniform_dist_prob(2, N=784)\n",
    "print('d=0', p0, np.exp(p0))\n",
    "print('d=1', p1, np.exp(p1))\n",
    "print('d=2', p2, np.exp(p2))\n",
    "\n",
    "\n",
    "d_arr = np.arange(N+1)\n",
    "p_arr = log_uniform_dist_prob(d_arr)\n",
    "plt.plot(d_arr, p_arr)\n",
    "plt.xlabel(r'$\\textrm{distance}$')\n",
    "plt.ylabel(r'$\\log p(d)$')\n",
    "\n",
    "d_arr = np.arange(N+1)\n",
    "logp_arr = log_uniform_dist_prob(d_arr)\n",
    "plt.plot(d_arr, logp_arr)\n",
    "plt.xlabel(r'$\\textrm{distance}$')\n",
    "plt.ylabel(r'$\\log p(d)$')\n",
    "plt.show(); plt.close()\n",
    "\n",
    "d_arr = np.arange(0,N+1)\n",
    "p_arr = np.exp(log_uniform_dist_prob(d_arr))\n",
    "plt.plot(d_arr, p_arr)\n",
    "plt.xlabel(r'$\\textrm{distance}$')\n",
    "plt.ylabel(r'$p(d)$')\n",
    "plt.show(); plt.close()"
   ]
  },
  {
   "cell_type": "markdown",
   "metadata": {},
   "source": [
    "We observe some data distribution $p_{data}^{(\\mu)}(d)=$ \"probability that sample $\\mu$-images are a distance $d$ from pattern $\\mu$\". Here is $\\log p(d)$ for $\\mu=1$."
   ]
  },
  {
   "cell_type": "code",
   "execution_count": 240,
   "metadata": {},
   "outputs": [
    {
     "data": {
      "image/png": "[encoded data removed]",
      "text/plain": [
       "<Figure size 432x288 with 1 Axes>"
      ]
     },
     "metadata": {
      "needs_background": "light"
     },
     "output_type": "display_data"
    }
   ],
   "source": [
    "for mu in [1]:\n",
    "    dists_by_mu = list_of_dists[mu]\n",
    "    energies_by_mu = list_of_energies[mu]\n",
    "    #boltz_by_mu = list_of_boltz[mu]\n",
    "    n, bins, _ = plt.hist(dists_by_mu, range=(0,250), bins=50, density=True)\n",
    "    plt.title('hamming distances (pattern: %d)' % mu)\n",
    "    plt.show(); plt.close()"
   ]
  },
  {
   "cell_type": "markdown",
   "metadata": {},
   "source": [
    "Consider rescaling this observed distribution by $p(d)$, the unbiased probability of being a distance $d$ away.\n",
    "\n",
    "Define $g_{data}^{(\\mu)}(d) \\equiv p_{data}^{(\\mu)}(d) / p(d)$.\n",
    "\n",
    "For re-weighting the binning, we need to sum over all the distances in each bin. For example, suppose bin $i$ represents distance $0, 1, 2$. The \"volume\" of states is then:\n",
    "\n",
    "$v(b_i) = n(0) + n(1) + n(2)$\n",
    "\n",
    "Then for the corresponding $p(d)$ bin $b_i$, \n",
    "\n",
    "$g_{data}^{(\\mu)}(b_i) \\equiv 2^N p_{data}^{(\\mu)}(b_i) / (n(0) + n(1) + n(2))$\n",
    "\n",
    "And its $\\log$, \n",
    "\n",
    "$\\log g_{data}^{(\\mu)}(b_i) \\equiv N \\log 2 + \\log p_{data}^{(\\mu)}(b_i) - \\log (n(0) + n(1) + n(2))$\n",
    "\n",
    "The final term is the $\\log$ of a partial sum of binomial coefficients, which has no closed form.\n",
    "Indirectly discussed on p102 of https://www.math.upenn.edu/~wilf/AeqB.pdf. Bottom of p160 is our quantity of interest. Relevant links\n",
    "\n",
    "- https://mathoverflow.net/questions/17202/sum-of-the-first-k-binomial-coefficients-for-fixed-n\n",
    "- https://math.stackexchange.com/questions/103280/asymptotics-for-a-partial-sum-of-binomial-coefficients\n",
    "- https://mathoverflow.net/questions/261428/approximation-of-sum-of-the-first-binomial-coefficients-for-fixed-n?noredirect=1&lq=1\n",
    "\n",
    "I will try the upper and lower bounds from the last link. "
   ]
  },
  {
   "cell_type": "code",
   "execution_count": 236,
   "metadata": {},
   "outputs": [
    {
     "name": "stdout",
     "output_type": "stream",
     "text": [
      "[  0.  10.  20.  30.  40.  50.  60.  70.  80.  90. 100. 110. 120. 130.\n",
      " 140. 150. 160. 170. 180. 190. 200. 210. 220. 230. 240. 250.]\n",
      "25 (25,)\n",
      "25 (26,)\n"
     ]
    },
    {
     "name": "stderr",
     "output_type": "stream",
     "text": [
      "c:\\users\\matts\\appdata\\local\\programs\\python\\python37\\lib\\site-packages\\ipykernel_launcher.py:95: RuntimeWarning: divide by zero encountered in log\n",
      "c:\\users\\matts\\appdata\\local\\programs\\python\\python37\\lib\\site-packages\\ipykernel_launcher.py:96: RuntimeWarning: divide by zero encountered in log\n"
     ]
    },
    {
     "name": "stdout",
     "output_type": "stream",
     "text": [
      "25 (25,)\n",
      "25 (26,)\n",
      "25 (25,)\n",
      "25 (26,)\n",
      "25 (25,)\n",
      "25 (26,)\n",
      "25 (25,)\n",
      "25 (26,)\n",
      "25 (25,)\n",
      "25 (26,)\n",
      "25 (25,)\n",
      "25 (26,)\n",
      "25 (25,)\n",
      "25 (26,)\n",
      "25 (25,)\n",
      "25 (26,)\n",
      "25 (25,)\n",
      "25 (26,)\n"
     ]
    }
   ],
   "source": [
    "outdir = 'output' + sep + 'ICLR_nb'\n",
    "\n",
    "D_RANGE = (0,250)\n",
    "E_RANGE = (-0.5 * 28**2, -100)\n",
    "\n",
    "\n",
    "def build_bins(dmin, dmax, nn):\n",
    "    # return nn+1 bin edges, for the nn bins\n",
    "    gap = (dmax - dmin) / float(nn)\n",
    "    return np.arange(dmin, dmax + 1e-5, gap)\n",
    "\n",
    "\n",
    "def H_fn(x):\n",
    "    return -x * np.log2(x) - (1-x) * np.log2(1-x)\n",
    "\n",
    "\n",
    "def log_volume_per_bin(bins, upper=True):\n",
    "    # NOTE: bounds only works for d <= N/2\n",
    "    # assumes the right edge of each bin is inclusive (i.e. [0, 10] means [0, 10+eps])\n",
    "    # TODO care for logs, at initial writing it is NOT log\n",
    "    nn = len(bins) - 1\n",
    "    \n",
    "    def upper_bound(r):\n",
    "        # partial sum of binomial coefficients (N choose k) form k=0 to k=r\n",
    "        # see https://mathoverflow.net/questions/261428/approximation-of-sum-of-the-first-binomial-coefficients-for-fixed-n?noredirect=1&lq=1\n",
    "        # see also Michael Lugo: https://mathoverflow.net/questions/17202/sum-of-the-first-k-binomial-coefficients-for-fixed-n\n",
    "        x = r / float(N0)\n",
    "        return 2 ** (N0 * H_fn(x))\n",
    "    \n",
    "    def lower_bound(r):\n",
    "        num = upper_bound(r)\n",
    "        den = np.sqrt(8 * r * (1 - float(r) / N0))\n",
    "        return num/den\n",
    "    \n",
    "    if upper:\n",
    "        bound = upper_bound\n",
    "    else:\n",
    "        bound = lower_bound\n",
    "    \n",
    "    \n",
    "    approx_cumsum = np.zeros(nn)\n",
    "    approx_vol_per_bin = np.zeros(nn)\n",
    "\n",
    "    for idx in range(nn):\n",
    "        bin_left = int(bins[idx])\n",
    "        bin_right = int(bins[idx + 1])\n",
    "        approx_cumsum[idx] = bound(bin_right)\n",
    "    \n",
    "    approx_vol_per_bin[0] = approx_cumsum[0]\n",
    "    for idx in range(1, nn):\n",
    "        approx_vol_per_bin[idx] = approx_cumsum[idx] - approx_cumsum[idx-1]\n",
    "    \n",
    "    log_approx_volume_per_bin = np.log(approx_vol_per_bin)\n",
    "    \n",
    "    return log_approx_volume_per_bin\n",
    "\n",
    "\n",
    "NUM_BINS = 25\n",
    "assert (D_RANGE[1] - D_RANGE[0]) % NUM_BINS == 0\n",
    "GAP = (D_RANGE[1] - D_RANGE[0]) / NUM_BINS\n",
    "BINS = build_bins(D_RANGE[0], D_RANGE[1], NUM_BINS)\n",
    "BINS_MIDPTS = [0.5*(BINS[idx + 1] + BINS[idx]) for idx in range(NUM_BINS)]\n",
    "print(BINS)\n",
    "\n",
    "# scale the normed counts by the distance\n",
    "approxUpper_log_vol_per_bin_arr = log_volume_per_bin(BINS, upper=True)\n",
    "approxLower_log_vol_per_bin_arr = log_volume_per_bin(BINS, upper=False)\n",
    "\n",
    "\n",
    "for mu in range(p):\n",
    "    \n",
    "    counts, bins = np.histogram(list_of_dists[mu], bins=BINS)\n",
    "    \n",
    "    \n",
    "    # Plot p_data(d)\n",
    "    normed_counts, _, _ = plt.hist(bins[:-1], bins, weights=counts, density=True)\n",
    "    plt.title(r'$p_{data}(d)$ (pattern: %d)' % mu)\n",
    "    plt.xlim(D_RANGE[0], D_RANGE[1])\n",
    "    plt.xlabel(r'$\\textrm{Hamming distance, d}$')\n",
    "    plt.savefig(outdir + sep + 'normed_dists_hist_mu%d.jpg' % mu)   \n",
    "    plt.close()\n",
    "    \n",
    "    # Plot log p_data(d)\n",
    "    log_normed_counts, _, _ = plt.hist(bins[:-1], bins, weights=counts, density=True, log=True)\n",
    "    plt.title(r'$\\log p_{data}(d)$ (pattern: %d)' % mu)\n",
    "    plt.xlim(D_RANGE[0], D_RANGE[1])\n",
    "    plt.xlabel(r'$\\textrm{Hamming distance, d}$')\n",
    "    plt.savefig(outdir + sep + 'log_normed_dists_hist_mu%d.jpg' % mu)   \n",
    "    plt.close()\n",
    "\n",
    "    \n",
    "    #scaled_log_normed_counts = ...\n",
    "    print(len(normed_counts), normed_counts.shape)\n",
    "    print(len(bins[:-1]), bins.shape)\n",
    "    scaled_appxUpper_log_normed_counts = N0 * np.log(2) + np.log(normed_counts) - approxUpper_log_vol_per_bin_arr\n",
    "    scaled_appxLower_log_normed_counts = N0 * np.log(2) + np.log(normed_counts) - approxLower_log_vol_per_bin_arr\n",
    "\n",
    "    \n",
    "    # Plot log g_data(d), upper and lower bound versions\n",
    "    plt.bar(BINS_MIDPTS, scaled_appxUpper_log_normed_counts, color='#2A63B1', width=GAP)\n",
    "    plt.title(r'$\\log g_{data}(d)$ (upper; pattern: %d)' % mu)\n",
    "    plt.xlim(D_RANGE[0], D_RANGE[1])\n",
    "    plt.xlabel(r'$\\textrm{Hamming distance, d}$')\n",
    "    plt.savefig(outdir + sep + 'scaled_appxUpper_log_normed_dists_hist_mu%d.jpg' % mu)   \n",
    "    plt.close()\n",
    "    \n",
    "    plt.bar(BINS_MIDPTS, scaled_appxLower_log_normed_counts, color='#2A63B1', width=GAP)\n",
    "    plt.title(r'$\\log g_{data}(d)$ (lower; pattern: %d)' % mu)\n",
    "    plt.xlim(D_RANGE[0], D_RANGE[1])\n",
    "    plt.xlabel(r'$\\textrm{Hamming distance, d}$')\n",
    "    plt.savefig(outdir + sep + 'scaled_appxLower_log_normed_dists_hist_mu%d.jpg' % mu)   \n",
    "    plt.close()"
   ]
  },
  {
   "cell_type": "markdown",
   "metadata": {},
   "source": [
    "troubleshooting NaN: do the whole N range of 0 to 784 split into 28size bins\n",
    "\n",
    "Have function which computes for each distance the average volume / log volume (more stable). Can bin later. "
   ]
  },
  {
   "cell_type": "code",
   "execution_count": 241,
   "metadata": {},
   "outputs": [
    {
     "name": "stderr",
     "output_type": "stream",
     "text": [
      "c:\\users\\matts\\appdata\\local\\programs\\python\\python37\\lib\\site-packages\\ipykernel_launcher.py:59: RuntimeWarning: invalid value encountered in log\n"
     ]
    },
    {
     "name": "stdout",
     "output_type": "stream",
     "text": [
      "len(counts), len(bins)\n",
      "785 786\n"
     ]
    },
    {
     "name": "stderr",
     "output_type": "stream",
     "text": [
      "c:\\users\\matts\\appdata\\local\\programs\\python\\python37\\lib\\site-packages\\ipykernel_launcher.py:122: RuntimeWarning: divide by zero encountered in log\n"
     ]
    },
    {
     "name": "stdout",
     "output_type": "stream",
     "text": [
      "785 (785,)\n",
      "785 (786,)\n",
      "bins_right\n",
      "[  1   2   3   4   5   6   7   8   9  10  11  12  13  14  15  16  17  18\n",
      "  19  20  21  22  23  24  25  26  27  28  29  30  31  32  33  34  35  36\n",
      "  37  38  39  40  41  42  43  44  45  46  47  48  49  50  51  52  53  54\n",
      "  55  56  57  58  59  60  61  62  63  64  65  66  67  68  69  70  71  72\n",
      "  73  74  75  76  77  78  79  80  81  82  83  84  85  86  87  88  89  90\n",
      "  91  92  93  94  95  96  97  98  99 100 101 102 103 104 105 106 107 108\n",
      " 109 110 111 112 113 114 115 116 117 118 119 120 121 122 123 124 125 126\n",
      " 127 128 129 130 131 132 133 134 135 136 137 138 139 140 141 142 143 144\n",
      " 145 146 147 148 149 150 151 152 153 154 155 156 157 158 159 160 161 162\n",
      " 163 164 165 166 167 168 169 170 171 172 173 174 175 176 177 178 179 180\n",
      " 181 182 183 184 185 186 187 188 189 190 191 192 193 194 195 196 197 198\n",
      " 199 200 201 202 203 204 205 206 207 208 209 210 211 212 213 214 215 216\n",
      " 217 218 219 220 221 222 223 224 225 226 227 228 229 230 231 232 233 234\n",
      " 235 236 237 238 239 240 241 242 243 244 245 246 247 248 249 250 251 252\n",
      " 253 254 255 256 257 258 259 260 261 262 263 264 265 266 267 268 269 270\n",
      " 271 272 273 274 275 276 277 278 279 280 281 282 283 284 285 286 287 288\n",
      " 289 290 291 292 293 294 295 296 297 298 299 300 301 302 303 304 305 306\n",
      " 307 308 309 310 311 312 313 314 315 316 317 318 319 320 321 322 323 324\n",
      " 325 326 327 328 329 330 331 332 333 334 335 336 337 338 339 340 341 342\n",
      " 343 344 345 346 347 348 349 350 351 352 353 354 355 356 357 358 359 360\n",
      " 361 362 363 364 365 366 367 368 369 370 371 372 373 374 375 376 377 378\n",
      " 379 380 381 382 383 384 385 386 387 388 389 390 391 392 393 394 395 396\n",
      " 397 398 399 400 401 402 403 404 405 406 407 408 409 410 411 412 413 414\n",
      " 415 416 417 418 419 420 421 422 423 424 425 426 427 428 429 430 431 432\n",
      " 433 434 435 436 437 438 439 440 441 442 443 444 445 446 447 448 449 450\n",
      " 451 452 453 454 455 456 457 458 459 460 461 462 463 464 465 466 467 468\n",
      " 469 470 471 472 473 474 475 476 477 478 479 480 481 482 483 484 485 486\n",
      " 487 488 489 490 491 492 493 494 495 496 497 498 499 500 501 502 503 504\n",
      " 505 506 507 508 509 510 511 512 513 514 515 516 517 518 519 520 521 522\n",
      " 523 524 525 526 527 528 529 530 531 532 533 534 535 536 537 538 539 540\n",
      " 541 542 543 544 545 546 547 548 549 550 551 552 553 554 555 556 557 558\n",
      " 559 560 561 562 563 564 565 566 567 568 569 570 571 572 573 574 575 576\n",
      " 577 578 579 580 581 582 583 584 585 586 587 588 589 590 591 592 593 594\n",
      " 595 596 597 598 599 600 601 602 603 604 605 606 607 608 609 610 611 612\n",
      " 613 614 615 616 617 618 619 620 621 622 623 624 625 626 627 628 629 630\n",
      " 631 632 633 634 635 636 637 638 639 640 641 642 643 644 645 646 647 648\n",
      " 649 650 651 652 653 654 655 656 657 658 659 660 661 662 663 664 665 666\n",
      " 667 668 669 670 671 672 673 674 675 676 677 678 679 680 681 682 683 684\n",
      " 685 686 687 688 689 690 691 692 693 694 695 696 697 698 699 700 701 702\n",
      " 703 704 705 706 707 708 709 710 711 712 713 714 715 716 717 718 719 720\n",
      " 721 722 723 724 725 726 727 728 729 730 731 732 733 734 735 736 737 738\n",
      " 739 740 741 742 743 744 745 746 747 748 749 750 751 752 753 754 755 756\n",
      " 757 758 759 760 761 762 763 764 765 766 767 768 769 770 771 772 773 774\n",
      " 775 776 777 778 779 780 781 782 783 784 785]\n",
      "normed_counts\n",
      "[0.         0.         0.         0.         0.         0.\n",
      " 0.         0.         0.         0.         0.00029665 0.00029665\n",
      " 0.00133492 0.00103827 0.00192821 0.00563631 0.00652625 0.00786117\n",
      " 0.00889944 0.01320083 0.01542569 0.01245921 0.01498072 0.01750222\n",
      " 0.02002373 0.01779887 0.01987541 0.01972708 0.01839217 0.01631563\n",
      " 0.01779887 0.01824384 0.01661228 0.01883714 0.01839217 0.01913379\n",
      " 0.01453575 0.01720558 0.01928211 0.01527737 0.01690893 0.01542569\n",
      " 0.01542569 0.01765055 0.01854049 0.01676061 0.01572234 0.01438742\n",
      " 0.01067932 0.01438742 0.01334915 0.01201424 0.01334915 0.01305251\n",
      " 0.010531   0.01260753 0.01409077 0.01171759 0.01498072 0.01023435\n",
      " 0.01245921 0.01156927 0.01038268 0.01156927 0.01038268 0.01082765\n",
      " 0.01216256 0.00889944 0.01097597 0.00949273 0.00756452 0.01038268\n",
      " 0.00949273 0.01082765 0.0099377  0.00889944 0.0068229  0.00815782\n",
      " 0.00667458 0.00860279 0.00519134 0.00711955 0.00459804 0.00667458\n",
      " 0.00489469 0.0068229  0.00593296 0.00533966 0.00459804 0.00415307\n",
      " 0.0031148  0.0037081  0.00266983 0.00266983 0.00266983 0.00207654\n",
      " 0.00385642 0.00430139 0.0037081  0.00222486 0.00237318 0.00237318\n",
      " 0.00266983 0.00133492 0.00207654 0.00266983 0.00192821 0.00163156\n",
      " 0.00103827 0.00148324 0.00074162 0.00163156 0.00163156 0.00148324\n",
      " 0.00118659 0.00133492 0.0005933  0.00252151 0.00029665 0.00118659\n",
      " 0.00088994 0.00029665 0.00074162 0.00029665 0.00088994 0.00044497\n",
      " 0.00074162 0.0005933  0.00044497 0.0005933  0.         0.00029665\n",
      " 0.         0.00014832 0.00014832 0.         0.00029665 0.\n",
      " 0.         0.00014832 0.00014832 0.         0.00014832 0.00014832\n",
      " 0.00029665 0.         0.         0.         0.         0.\n",
      " 0.00014832 0.         0.         0.00014832 0.00014832 0.\n",
      " 0.         0.         0.         0.         0.         0.00014832\n",
      " 0.00014832 0.         0.         0.         0.00014832 0.\n",
      " 0.         0.         0.         0.         0.         0.\n",
      " 0.00014832 0.         0.         0.         0.         0.\n",
      " 0.         0.         0.         0.         0.         0.\n",
      " 0.         0.         0.         0.         0.         0.\n",
      " 0.         0.         0.         0.         0.         0.\n",
      " 0.         0.         0.         0.         0.         0.\n",
      " 0.         0.         0.         0.         0.         0.\n",
      " 0.         0.         0.         0.         0.         0.\n",
      " 0.         0.         0.         0.         0.         0.\n",
      " 0.         0.         0.         0.         0.         0.\n",
      " 0.         0.         0.         0.         0.         0.\n",
      " 0.         0.         0.         0.         0.         0.\n",
      " 0.         0.         0.         0.         0.         0.\n",
      " 0.         0.         0.         0.         0.         0.\n",
      " 0.         0.         0.         0.         0.         0.\n",
      " 0.         0.         0.         0.         0.         0.\n",
      " 0.         0.         0.         0.         0.         0.\n",
      " 0.         0.         0.         0.         0.         0.\n",
      " 0.         0.         0.         0.         0.         0.\n",
      " 0.         0.         0.         0.         0.         0.\n",
      " 0.         0.         0.         0.         0.         0.\n",
      " 0.         0.         0.         0.         0.         0.\n",
      " 0.         0.         0.         0.         0.         0.\n",
      " 0.         0.         0.         0.         0.         0.\n",
      " 0.         0.         0.         0.         0.         0.\n",
      " 0.         0.         0.         0.         0.         0.\n",
      " 0.         0.         0.         0.         0.         0.\n",
      " 0.         0.         0.         0.         0.         0.\n",
      " 0.         0.         0.         0.         0.         0.\n",
      " 0.         0.         0.         0.         0.         0.\n",
      " 0.         0.         0.         0.         0.         0.\n",
      " 0.         0.         0.         0.         0.         0.\n",
      " 0.         0.         0.         0.         0.         0.\n",
      " 0.         0.         0.         0.         0.         0.\n",
      " 0.         0.         0.         0.         0.         0.\n",
      " 0.         0.         0.         0.         0.         0.\n",
      " 0.         0.         0.         0.         0.         0.\n",
      " 0.         0.         0.         0.         0.         0.\n",
      " 0.         0.         0.         0.         0.         0.\n",
      " 0.         0.         0.         0.         0.         0.\n",
      " 0.         0.         0.         0.         0.         0.\n",
      " 0.         0.         0.         0.         0.         0.\n",
      " 0.         0.         0.         0.         0.         0.\n",
      " 0.         0.         0.         0.         0.         0.\n",
      " 0.         0.         0.         0.         0.         0.\n",
      " 0.         0.         0.         0.         0.         0.\n",
      " 0.         0.         0.         0.         0.         0.\n",
      " 0.         0.         0.         0.         0.         0.\n",
      " 0.         0.         0.         0.         0.         0.\n",
      " 0.         0.         0.         0.         0.         0.\n",
      " 0.         0.         0.         0.         0.         0.\n",
      " 0.         0.         0.         0.         0.         0.\n",
      " 0.         0.         0.         0.         0.         0.\n",
      " 0.         0.         0.         0.         0.         0.\n",
      " 0.         0.         0.         0.         0.         0.\n",
      " 0.         0.         0.         0.         0.         0.\n",
      " 0.         0.         0.         0.         0.         0.\n",
      " 0.         0.         0.         0.         0.         0.\n",
      " 0.         0.         0.         0.         0.         0.\n",
      " 0.         0.         0.         0.         0.         0.\n",
      " 0.         0.         0.         0.         0.         0.\n",
      " 0.         0.         0.         0.         0.         0.\n",
      " 0.         0.         0.         0.         0.         0.\n",
      " 0.         0.         0.         0.         0.         0.\n",
      " 0.         0.         0.         0.         0.         0.\n",
      " 0.         0.         0.         0.         0.         0.\n",
      " 0.         0.         0.         0.         0.         0.\n",
      " 0.         0.         0.         0.         0.         0.\n",
      " 0.         0.         0.         0.         0.         0.\n",
      " 0.         0.         0.         0.         0.         0.\n",
      " 0.         0.         0.         0.         0.         0.\n",
      " 0.         0.         0.         0.         0.         0.\n",
      " 0.         0.         0.         0.         0.         0.\n",
      " 0.         0.         0.         0.         0.         0.\n",
      " 0.         0.         0.         0.         0.         0.\n",
      " 0.         0.         0.         0.         0.         0.\n",
      " 0.         0.         0.         0.         0.         0.\n",
      " 0.         0.         0.         0.         0.         0.\n",
      " 0.         0.         0.         0.         0.         0.\n",
      " 0.         0.         0.         0.         0.         0.\n",
      " 0.         0.         0.         0.         0.         0.\n",
      " 0.         0.         0.         0.         0.         0.\n",
      " 0.         0.         0.         0.         0.         0.\n",
      " 0.         0.         0.         0.         0.         0.\n",
      " 0.         0.         0.         0.         0.         0.\n",
      " 0.         0.         0.         0.         0.         0.\n",
      " 0.         0.         0.         0.         0.         0.\n",
      " 0.         0.         0.         0.         0.         0.\n",
      " 0.         0.         0.         0.         0.         0.\n",
      " 0.         0.         0.         0.         0.         0.\n",
      " 0.         0.         0.         0.         0.         0.\n",
      " 0.         0.         0.         0.         0.         0.\n",
      " 0.         0.         0.         0.         0.         0.\n",
      " 0.         0.         0.         0.         0.         0.\n",
      " 0.         0.         0.         0.         0.         0.\n",
      " 0.         0.         0.         0.         0.         0.\n",
      " 0.         0.         0.         0.         0.         0.\n",
      " 0.         0.         0.         0.         0.         0.\n",
      " 0.         0.         0.         0.         0.         0.\n",
      " 0.         0.         0.         0.         0.         0.\n",
      " 0.         0.         0.         0.         0.         0.\n",
      " 0.         0.         0.         0.         0.         0.\n",
      " 0.         0.         0.         0.         0.        ]\n",
      "approxUpper_log_vol_per_bin_arr\n",
      "[  0.           7.66330135  13.93808818  19.68846054  25.09775816\n",
      "  30.25309998  35.2057992   39.98976173  44.62908552  49.14178822\n",
      "  53.54185478  57.84045696  62.04672565  66.16826379  70.21150058\n",
      "  74.18194399  78.08436558  81.92293899  85.70134575  89.42285746\n",
      "  93.09040062  96.70660855 100.27386328 103.79432991 107.26998492\n",
      " 110.70263978 114.09396078 117.44548579 120.75863855 124.03474091\n",
      " 127.27502335 130.48063417 133.65264743 136.79206988 139.89984714\n",
      " 142.97686906 146.0239745  149.04195562 152.03156161 154.99350212\n",
      " 157.92845032 160.83704558 163.719896   166.57758061 169.41065142\n",
      " 172.21963524 175.00503537 177.76733316 180.50698935 183.22444542\n",
      " 185.92012475 188.59443367 191.24776252 193.88048653 196.4929667\n",
      " 199.08555058 201.658573   204.21235675 206.74721323 209.26344303\n",
      " 211.76133646 214.24117409 216.70322724 219.14775837 221.57502157\n",
      " 223.9852629  226.37872079 228.75562639 231.11620387 233.46067074\n",
      " 235.78923814 238.10211113 240.3994889  242.68156509 244.94852792\n",
      " 247.2005605  249.43784098 251.66054277 253.8688347  256.06288123\n",
      " 258.24284259 260.40887495 262.56113055 264.69975787 266.82490178\n",
      " 268.9367036  271.03530129 273.12082955 275.19341993 277.25320092\n",
      " 279.30029809 281.33483413 283.35692902 285.36670005 287.36426196\n",
      " 289.34972696 291.32320488 293.28480319 295.23462709 297.17277961\n",
      " 299.09936161 301.01447189 302.91820727 304.81066259 306.69193081\n",
      " 308.56210306 310.42126867 312.26951523 314.10692867 315.93359326\n",
      " 317.74959167 319.55500504 321.34991298 323.13439363 324.90852372\n",
      " 326.67237855 328.4260321  330.16955701 331.90302462 333.62650503\n",
      " 335.3400671  337.04377853 338.7377058  340.4219143  342.09646828\n",
      " 343.76143093 345.41686437 347.06282968 348.69938696 350.32659529\n",
      " 351.94451281 353.55319672 355.15270328 356.74308789 358.32440504\n",
      " 359.89670836 361.46005067 363.01448394 364.56005935 366.09682728\n",
      " 367.62483735 369.14413843 370.65477865 372.15680541 373.65026541\n",
      " 375.13520465 376.61166846 378.0797015  379.53934777 380.99065065\n",
      " 382.43365287 383.86839657 385.29492327 386.71327391 388.12348884\n",
      " 389.52560785 390.91967017 392.30571449 393.68377895 395.05390117\n",
      " 396.41611826 397.7704668  399.1169829  400.45570216 401.78665971\n",
      " 403.1098902  404.42542783 405.73330632 407.03355896 408.32621859\n",
      " 409.61131764 410.88888808 412.15896149 413.42156902 414.67674143\n",
      " 415.92450907 417.16490191 418.39794953 419.62368114 420.84212555\n",
      " 422.05331124 423.2572663  424.45401849 425.64359521 426.8260235\n",
      " 428.00133008 429.16954134 430.33068333 431.48478178 432.63186209\n",
      " 433.77194938 434.90506843 436.03124371 437.15049943 438.26285945\n",
      " 439.36834739 440.46698655 441.55879995 442.64381034 443.72204019\n",
      " 444.79351171 445.85824681 446.91626717 447.96759419 449.01224902\n",
      " 450.05025256 451.08162544 452.10638807 453.12456059 454.13616293\n",
      " 455.14121475 456.13973548 457.13174435 458.11726032 459.09630215\n",
      " 460.06888837 461.03503727 461.99476697 462.94809531 463.89503998\n",
      " 464.83561841 465.76984786 466.69774535 467.61932772 468.5346116\n",
      " 469.44361343 470.34634945 471.24283568 472.13308799 473.01712204\n",
      " 473.89495328 474.76659702 475.63206834 476.49138216 477.34455322\n",
      " 478.19159607 479.03252509 479.86735449 480.69609829 481.51877035\n",
      " 482.33538436 483.14595382 483.95049208 484.74901233 485.54152758\n",
      " 486.32805068 487.10859432 487.88317102 488.65179316 489.41447293\n",
      " 490.17122239 490.92205344 491.6669778  492.40600707 493.13915267\n",
      " 493.86642588 494.58783782 495.30339947 496.01312165 496.71701504\n",
      " 497.41509016 498.1073574  498.79382698 499.47450898 500.14941336\n",
      " 500.8185499  501.48192825 502.13955791 502.79144825 503.43760849\n",
      " 504.07804769 504.7127748  505.34179858 505.9651277  506.58277065\n",
      " 507.19473579 507.80103134 508.40166538 508.99664583 509.58598048\n",
      " 510.16967698 510.74774283 511.32018539 511.88701186 512.44822932\n",
      " 513.00384469 513.55386474 514.0982961  514.63714525 515.17041852\n",
      " 515.69812209 516.22026199 516.73684409 517.24787411 517.75335763\n",
      " 518.25330004 518.7477066  519.23658239 519.71993234 520.1977612\n",
      " 520.67007357 521.13687385 521.59816631 522.053955   522.50424382\n",
      " 522.94903648 523.38833648 523.82214716 524.25047164 524.67331288\n",
      " 525.09067358 525.50255627 525.90896325 526.3098966  526.70535819\n",
      " 527.09534961 527.47987226 527.85892726 528.23251549 528.60063753\n",
      " 528.96329373 529.32048411 529.67220842 530.01846609 530.35925622\n",
      " 530.69457759 531.02442862 531.34880735 531.66771145 531.98113818\n",
      " 532.28908438 532.59154643 532.88852025 533.18000128 533.4659844\n",
      " 533.74646395 534.02143371 534.29088678 534.55481565 534.81321206\n",
      " 535.06606703 535.31337075 535.55511254 535.79128082 536.021863\n",
      " 536.2468454  536.46621321 536.67995035 536.88803938 537.0904614\n",
      " 537.28719589 537.4782206  537.66351135 537.84304186 538.01678357\n",
      " 538.18470534 538.34677327 538.5029503  538.65319595 538.79746587\n",
      " 538.93571138 539.06787898 539.19390967 539.31373831 539.4272927\n",
      " 539.53449262 539.63524867 539.72946083 539.81701679 539.89778991\n",
      " 539.97163673 540.03839395 540.09787461 540.14986341 540.19411075\n",
      " 540.23032507 540.25816305 540.27721661 540.28699564 540.28690457\n",
      " 540.27620984 540.25399382 540.21908771 540.16997072 540.10461303\n",
      " 540.02021988 539.91279163 539.77631319 539.6011216  539.37019005\n",
      " 539.04900474 538.5483703           nan 538.5483703  539.04900474\n",
      " 539.37019005 539.6011216  539.77631319 539.91279163 540.02021988\n",
      " 540.10461303 540.16997072 540.21908771 540.25399382 540.27620984\n",
      " 540.28690457 540.28699564 540.27721661 540.25816305 540.23032507\n",
      " 540.19411075 540.14986341 540.09787461 540.03839395 539.97163673\n",
      " 539.89778991 539.81701679 539.72946083 539.63524867 539.53449262\n",
      " 539.4272927  539.31373831 539.19390967 539.06787898 538.93571138\n",
      " 538.79746587 538.65319595 538.5029503  538.34677327 538.18470534\n",
      " 538.01678357 537.84304186 537.66351135 537.4782206  537.28719589\n",
      " 537.0904614  536.88803938 536.67995035 536.46621321 536.2468454\n",
      " 536.021863   535.79128082 535.55511254 535.31337075 535.06606703\n",
      " 534.81321206 534.55481565 534.29088678 534.02143371 533.74646395\n",
      " 533.4659844  533.18000128 532.88852025 532.59154643 532.28908438\n",
      " 531.98113818 531.66771145 531.34880735 531.02442862 530.69457759\n",
      " 530.35925622 530.01846609 529.67220842 529.32048411 528.96329373\n",
      " 528.60063753 528.23251549 527.85892726 527.47987226 527.09534961\n",
      " 526.70535819 526.3098966  525.90896325 525.50255627 525.09067358\n",
      " 524.67331288 524.25047164 523.82214716 523.38833648 522.94903648\n",
      " 522.50424382 522.053955   521.59816631 521.13687385 520.67007357\n",
      " 520.1977612  519.71993234 519.23658239 518.7477066  518.25330004\n",
      " 517.75335763 517.24787411 516.73684409 516.22026199 515.69812209\n",
      " 515.17041852 514.63714525 514.0982961  513.55386474 513.00384469\n",
      " 512.44822932 511.88701186 511.32018539 510.74774283 510.16967698\n",
      " 509.58598048 508.99664583 508.40166538 507.80103134 507.19473579\n",
      " 506.58277065 505.9651277  505.34179858 504.7127748  504.07804769\n",
      " 503.43760849 502.79144825 502.13955791 501.48192825 500.8185499\n",
      " 500.14941336 499.47450898 498.79382698 498.1073574  497.41509016\n",
      " 496.71701504 496.01312165 495.30339947 494.58783782 493.86642588\n",
      " 493.13915267 492.40600707 491.6669778  490.92205344 490.17122239\n",
      " 489.41447293 488.65179316 487.88317102 487.10859432 486.32805068\n",
      " 485.54152758 484.74901233 483.95049208 483.14595382 482.33538436\n",
      " 481.51877035 480.69609829 479.86735449 479.03252509 478.19159607\n",
      " 477.34455322 476.49138216 475.63206834 474.76659702 473.89495328\n",
      " 473.01712204 472.13308799 471.24283568 470.34634945 469.44361343\n",
      " 468.5346116  467.61932772 466.69774535 465.76984786 464.83561841\n",
      " 463.89503998 462.94809531 461.99476697 461.03503727 460.06888837\n",
      " 459.09630215 458.11726032 457.13174435 456.13973548 455.14121475\n",
      " 454.13616293 453.12456059 452.10638807 451.08162544 450.05025256\n",
      " 449.01224902 447.96759419 446.91626717 445.85824681 444.79351171\n",
      " 443.72204019 442.64381034 441.55879995 440.46698655 439.36834739\n",
      " 438.26285945 437.15049943 436.03124371 434.90506843 433.77194938\n",
      " 432.63186209 431.48478178 430.33068333 429.16954134 428.00133008\n",
      " 426.8260235  425.64359521 424.45401849 423.2572663  422.05331124\n",
      " 420.84212555 419.62368114 418.39794953 417.16490191 415.92450907\n",
      " 414.67674143 413.42156902 412.15896149 410.88888808 409.61131764\n",
      " 408.32621859 407.03355896 405.73330632 404.42542783 403.1098902\n",
      " 401.78665971 400.45570216 399.1169829  397.7704668  396.41611826\n",
      " 395.05390117 393.68377895 392.30571449 390.91967017 389.52560785\n",
      " 388.12348884 386.71327391 385.29492327 383.86839657 382.43365287\n",
      " 380.99065065 379.53934777 378.0797015  376.61166846 375.13520465\n",
      " 373.65026541 372.15680541 370.65477865 369.14413843 367.62483735\n",
      " 366.09682728 364.56005935 363.01448394 361.46005067 359.89670836\n",
      " 358.32440504 356.74308789 355.15270328 353.55319672 351.94451281\n",
      " 350.32659529 348.69938696 347.06282968 345.41686437 343.76143093\n",
      " 342.09646828 340.4219143  338.7377058  337.04377853 335.3400671\n",
      " 333.62650503 331.90302462 330.16955701 328.4260321  326.67237855\n",
      " 324.90852372 323.13439363 321.34991298 319.55500504 317.74959167\n",
      " 315.93359326 314.10692867 312.26951523 310.42126867 308.56210306\n",
      " 306.69193081 304.81066259 302.91820727 301.01447189 299.09936161\n",
      " 297.17277961 295.23462709 293.28480319 291.32320488 289.34972696\n",
      " 287.36426196 285.36670005 283.35692902 281.33483413 279.30029809\n",
      " 277.25320092 275.19341993 273.12082955 271.03530129 268.9367036\n",
      " 266.82490178 264.69975787 262.56113055 260.40887495 258.24284259\n",
      " 256.06288123 253.8688347  251.66054277 249.43784098 247.2005605\n",
      " 244.94852792 242.68156509 240.3994889  238.10211113 235.78923814\n",
      " 233.46067074 231.11620387 228.75562639 226.37872079 223.9852629\n",
      " 221.57502157 219.14775837 216.70322724 214.24117409 211.76133646\n",
      " 209.26344303 206.74721323 204.21235675 201.658573   199.08555058\n",
      " 196.4929667  193.88048653 191.24776252 188.59443367 185.92012475\n",
      " 183.22444542 180.50698935 177.76733316 175.00503537 172.21963524\n",
      " 169.41065142 166.57758061 163.719896   160.83704558 157.92845032\n",
      " 154.99350212 152.03156161 149.04195562 146.0239745  142.97686906\n",
      " 139.89984714 136.79206988 133.65264743 130.48063417 127.27502335\n",
      " 124.03474091 120.75863855 117.44548579 114.09396078 110.70263978\n",
      " 107.26998492 103.79432991 100.27386328  96.70660855  93.09040062\n",
      "  89.42285746  85.70134575  81.92293899  78.08436558  74.18194399\n",
      "  70.21150058  66.16826379  62.04672565  57.84045696  53.54185478\n",
      "  49.14178822  44.62908552  39.98976173  35.2057992   30.25309998\n",
      "  25.09775816  19.68846054  13.93808818   7.66330135   0.        ]\n",
      "scaled_appxUpper_log_normed_counts\n",
      "[        -inf         -inf         -inf         -inf         -inf\n",
      "         -inf         -inf         -inf         -inf         -inf\n",
      " 481.76257007 477.46396788 474.76177659 470.38892402 466.96472644\n",
      " 464.06691983 460.31110172 456.65863059 453.00427647 449.67705658\n",
      " 446.16526794 442.33548592 438.9525349  435.58763238 432.24656752\n",
      " 428.69612963 425.41515668 422.056141   418.67292068 415.27701712\n",
      " 412.12374606 408.94282785 405.67712911 402.66339487 399.53171209\n",
      " 396.49422101 393.17227064 390.32291224 387.44725051 384.25250453\n",
      " 381.41902579 378.41862298 375.53577256 372.81282054 370.02893998\n",
      " 367.11903024 364.26968138 361.41865548 358.38095443 355.96154322\n",
      " 353.19096259 350.41129315 347.86332482 345.20812795 342.38099084\n",
      " 339.96837834 337.50658156 334.76836876 332.47918495 329.58194114\n",
      " 327.280758   324.72681239 322.15654567 319.82022812 317.28475134\n",
      " 314.91647421 312.63927612 309.94999583 307.79913889 305.30949001\n",
      " 302.75386515 300.75766178 298.37067184 296.22017202 293.86744236\n",
      " 291.50506172 289.00207808 286.95806808 284.54910545 282.60883944\n",
      " 279.92378313 278.07360373 275.48413432 273.71818228 271.28288345\n",
      " 269.50321546 267.26485583 265.07396705 262.85184494 260.69028125\n",
      " 258.35550202 256.49531936 254.1447204  252.13494937 250.13738746\n",
      " 247.90060803 246.54616932 244.69377031 242.59552639 240.14654826\n",
      " 238.28450478 236.36939449 234.58344215 231.99783965 230.55840418\n",
      " 228.93954636 226.75495836 224.73965771 222.45025914 220.9802695\n",
      " 218.4711239  217.45416789 215.65925996 213.77946912 211.78219549\n",
      " 210.13612369 207.57153992 207.274934   203.40140023 203.06421418\n",
      " 201.06297003 198.26064632 197.48300978 194.88251055 194.30656885\n",
      " 191.94845902 190.80385121 188.93474234 187.01050299 185.67097674\n",
      "         -inf 181.75122813         -inf 177.86818977 176.28687263\n",
      "         -inf 173.84437417         -inf         -inf 168.51445039\n",
      " 166.98644031         -inf 163.95649901 162.45447225 161.65415943\n",
      "         -inf         -inf         -inf         -inf         -inf\n",
      " 152.17762479         -inf         -inf 147.89800375 146.48778882\n",
      "         -inf         -inf         -inf         -inf         -inf\n",
      "         -inf 136.84081086 135.49429476         -inf         -inf\n",
      "         -inf 130.18584983         -inf         -inf         -inf\n",
      "         -inf         -inf         -inf         -inf 119.93453624\n",
      "         -inf         -inf         -inf         -inf         -inf\n",
      "         -inf         -inf         -inf         -inf         -inf\n",
      "         -inf         -inf         -inf         -inf         -inf\n",
      "         -inf         -inf         -inf         -inf         -inf\n",
      "         -inf         -inf         -inf         -inf         -inf\n",
      "         -inf         -inf         -inf         -inf         -inf\n",
      "         -inf         -inf         -inf         -inf         -inf\n",
      "         -inf         -inf         -inf         -inf         -inf\n",
      "         -inf         -inf         -inf         -inf         -inf\n",
      "         -inf         -inf         -inf         -inf         -inf\n",
      "         -inf         -inf         -inf         -inf         -inf\n",
      "         -inf         -inf         -inf         -inf         -inf\n",
      "         -inf         -inf         -inf         -inf         -inf\n",
      "         -inf         -inf         -inf         -inf         -inf\n",
      "         -inf         -inf         -inf         -inf         -inf\n",
      "         -inf         -inf         -inf         -inf         -inf\n",
      "         -inf         -inf         -inf         -inf         -inf\n",
      "         -inf         -inf         -inf         -inf         -inf\n",
      "         -inf         -inf         -inf         -inf         -inf\n",
      "         -inf         -inf         -inf         -inf         -inf\n",
      "         -inf         -inf         -inf         -inf         -inf\n",
      "         -inf         -inf         -inf         -inf         -inf\n",
      "         -inf         -inf         -inf         -inf         -inf\n",
      "         -inf         -inf         -inf         -inf         -inf\n",
      "         -inf         -inf         -inf         -inf         -inf\n",
      "         -inf         -inf         -inf         -inf         -inf\n",
      "         -inf         -inf         -inf         -inf         -inf\n",
      "         -inf         -inf         -inf         -inf         -inf\n",
      "         -inf         -inf         -inf         -inf         -inf\n",
      "         -inf         -inf         -inf         -inf         -inf\n",
      "         -inf         -inf         -inf         -inf         -inf\n",
      "         -inf         -inf         -inf         -inf         -inf\n",
      "         -inf         -inf         -inf         -inf         -inf\n",
      "         -inf         -inf         -inf         -inf         -inf\n",
      "         -inf         -inf         -inf         -inf         -inf\n",
      "         -inf         -inf         -inf         -inf         -inf\n",
      "         -inf         -inf         -inf         -inf         -inf\n",
      "         -inf         -inf         -inf         -inf         -inf\n",
      "         -inf         -inf         -inf         -inf         -inf\n",
      "         -inf         -inf         -inf         -inf         -inf\n",
      "         -inf         -inf         -inf         -inf         -inf\n",
      "         -inf         -inf         -inf         -inf         -inf\n",
      "         -inf         -inf         -inf         -inf         -inf\n",
      "         -inf         -inf          nan         -inf         -inf\n",
      "         -inf         -inf         -inf         -inf         -inf\n",
      "         -inf         -inf         -inf         -inf         -inf\n",
      "         -inf         -inf         -inf         -inf         -inf\n",
      "         -inf         -inf         -inf         -inf         -inf\n",
      "         -inf         -inf         -inf         -inf         -inf\n",
      "         -inf         -inf         -inf         -inf         -inf\n",
      "         -inf         -inf         -inf         -inf         -inf\n",
      "         -inf         -inf         -inf         -inf         -inf\n",
      "         -inf         -inf         -inf         -inf         -inf\n",
      "         -inf         -inf         -inf         -inf         -inf\n",
      "         -inf         -inf         -inf         -inf         -inf\n",
      "         -inf         -inf         -inf         -inf         -inf\n",
      "         -inf         -inf         -inf         -inf         -inf\n",
      "         -inf         -inf         -inf         -inf         -inf\n",
      "         -inf         -inf         -inf         -inf         -inf\n",
      "         -inf         -inf         -inf         -inf         -inf\n",
      "         -inf         -inf         -inf         -inf         -inf\n",
      "         -inf         -inf         -inf         -inf         -inf\n",
      "         -inf         -inf         -inf         -inf         -inf\n",
      "         -inf         -inf         -inf         -inf         -inf\n",
      "         -inf         -inf         -inf         -inf         -inf\n",
      "         -inf         -inf         -inf         -inf         -inf\n",
      "         -inf         -inf         -inf         -inf         -inf\n",
      "         -inf         -inf         -inf         -inf         -inf\n",
      "         -inf         -inf         -inf         -inf         -inf\n",
      "         -inf         -inf         -inf         -inf         -inf\n",
      "         -inf         -inf         -inf         -inf         -inf\n",
      "         -inf         -inf         -inf         -inf         -inf\n",
      "         -inf         -inf         -inf         -inf         -inf\n",
      "         -inf         -inf         -inf         -inf         -inf\n",
      "         -inf         -inf         -inf         -inf         -inf\n",
      "         -inf         -inf         -inf         -inf         -inf\n",
      "         -inf         -inf         -inf         -inf         -inf\n",
      "         -inf         -inf         -inf         -inf         -inf\n",
      "         -inf         -inf         -inf         -inf         -inf\n",
      "         -inf         -inf         -inf         -inf         -inf\n",
      "         -inf         -inf         -inf         -inf         -inf\n",
      "         -inf         -inf         -inf         -inf         -inf\n",
      "         -inf         -inf         -inf         -inf         -inf\n",
      "         -inf         -inf         -inf         -inf         -inf\n",
      "         -inf         -inf         -inf         -inf         -inf\n",
      "         -inf         -inf         -inf         -inf         -inf\n",
      "         -inf         -inf         -inf         -inf         -inf\n",
      "         -inf         -inf         -inf         -inf         -inf\n",
      "         -inf         -inf         -inf         -inf         -inf\n",
      "         -inf         -inf         -inf         -inf         -inf\n",
      "         -inf         -inf         -inf         -inf         -inf\n",
      "         -inf         -inf         -inf         -inf         -inf\n",
      "         -inf         -inf         -inf         -inf         -inf\n",
      "         -inf         -inf         -inf         -inf         -inf\n",
      "         -inf         -inf         -inf         -inf         -inf\n",
      "         -inf         -inf         -inf         -inf         -inf\n",
      "         -inf         -inf         -inf         -inf         -inf\n",
      "         -inf         -inf         -inf         -inf         -inf\n",
      "         -inf         -inf         -inf         -inf         -inf\n",
      "         -inf         -inf         -inf         -inf         -inf\n",
      "         -inf         -inf         -inf         -inf         -inf\n",
      "         -inf         -inf         -inf         -inf         -inf\n",
      "         -inf         -inf         -inf         -inf         -inf\n",
      "         -inf         -inf         -inf         -inf         -inf\n",
      "         -inf         -inf         -inf         -inf         -inf\n",
      "         -inf         -inf         -inf         -inf         -inf\n",
      "         -inf         -inf         -inf         -inf         -inf\n",
      "         -inf         -inf         -inf         -inf         -inf\n",
      "         -inf         -inf         -inf         -inf         -inf\n",
      "         -inf         -inf         -inf         -inf         -inf\n",
      "         -inf         -inf         -inf         -inf         -inf\n",
      "         -inf         -inf         -inf         -inf         -inf\n",
      "         -inf         -inf         -inf         -inf         -inf\n",
      "         -inf         -inf         -inf         -inf         -inf\n",
      "         -inf         -inf         -inf         -inf         -inf\n",
      "         -inf         -inf         -inf         -inf         -inf\n",
      "         -inf         -inf         -inf         -inf         -inf\n",
      "         -inf         -inf         -inf         -inf         -inf\n",
      "         -inf         -inf         -inf         -inf         -inf\n",
      "         -inf         -inf         -inf         -inf         -inf\n",
      "         -inf         -inf         -inf         -inf         -inf\n",
      "         -inf         -inf         -inf         -inf         -inf]\n"
     ]
    },
    {
     "name": "stderr",
     "output_type": "stream",
     "text": [
      "c:\\users\\matts\\appdata\\local\\programs\\python\\python37\\lib\\site-packages\\ipykernel_launcher.py:132: RuntimeWarning: divide by zero encountered in log\n",
      "c:\\users\\matts\\appdata\\local\\programs\\python\\python37\\lib\\site-packages\\ipykernel_launcher.py:133: RuntimeWarning: divide by zero encountered in log\n"
     ]
    }
   ],
   "source": [
    "N = 28**2\n",
    "D_RANGE = (0,N)\n",
    "\n",
    "NUM_BINS = N + 1   # 28\n",
    "if NUM_BINS == N+1:\n",
    "    GAP = 1\n",
    "    BINS = np.arange(NUM_BINS)\n",
    "    BINS_MIDPTS = [0.5*(BINS[idx + 1] + BINS[idx]) for idx in range(NUM_BINS-1)]\n",
    "else:\n",
    "    assert (D_RANGE[1] - D_RANGE[0]) % NUM_BINS == 0\n",
    "    GAP = (D_RANGE[1] - D_RANGE[0]) / NUM_BINS\n",
    "    BINS = build_bins(D_RANGE[0], D_RANGE[1], NUM_BINS)\n",
    "    BINS_MIDPTS = [0.5*(BINS[idx + 1] + BINS[idx]) for idx in range(NUM_BINS)]\n",
    "#print(BINS)\n",
    "\n",
    "\n",
    "def log_volume_per_dist(dists, upper=True):\n",
    "    assert len(dists) == N + 1\n",
    "    nn = len(dists)\n",
    "    \n",
    "    def upper_bound(r):\n",
    "        x = r / float(N0)\n",
    "        return 2 ** (N0 * H_fn(x))\n",
    "    \n",
    "    def lower_bound(r):\n",
    "        num = upper_bound(r)\n",
    "        den = np.sqrt(8 * r * (1 - float(r) / N0))\n",
    "        return num/den\n",
    "    \n",
    "    if upper:\n",
    "        bound = upper_bound\n",
    "    else:\n",
    "        bound = lower_bound\n",
    "    \n",
    "    approx_cumsum = np.zeros(nn)\n",
    "    approx_vol_per_dist = np.zeros(nn)\n",
    "\n",
    "    # know first/last value is \"1\"\n",
    "    approx_cumsum[0] = 1\n",
    "    approx_cumsum[N] = 2**N\n",
    "    \n",
    "    # use symmetry wrt midpoint N/2.0    \n",
    "    assert N % 2 == 0\n",
    "    midpt = int(N / 2)\n",
    "    for idx in range(1, midpt + 1):\n",
    "        idx_reflect = N - idx\n",
    "        approx_cumsum[idx] = bound(idx)\n",
    "        approx_cumsum[idx_reflect] = approx_cumsum[N] - approx_cumsum[idx]\n",
    "        #print('loop1_cumsum', idx, approx_cumsum[idx], idx_reflect, approx_cumsum[idx_reflect])\n",
    "    \n",
    "    approx_vol_per_dist[0] = approx_cumsum[0]\n",
    "    approx_vol_per_dist[N] = 1.0\n",
    "    for idx in range(1, midpt + 1):\n",
    "        idx_reflect = N - idx\n",
    "        approx_vol_per_dist[idx] = approx_cumsum[idx] - approx_cumsum[idx-1]\n",
    "        approx_vol_per_dist[idx_reflect] = approx_vol_per_dist[idx]\n",
    "        #print('log_volume_per_dist', idx, idx_reflect, approx_vol_per_dist[idx], approx_vol_per_dist[idx])\n",
    "    \n",
    "    log_approx_volume_per_dist = np.log(approx_vol_per_dist)\n",
    "    #print('log_approx_volume_per_dist')\n",
    "    #print(log_approx_volume_per_dist)\n",
    "    \n",
    "    return log_approx_volume_per_dist, approx_vol_per_dist, approx_cumsum\n",
    "\n",
    "\n",
    "def log_volume_per_bin(bins):\n",
    "    nn = len(bins) - 1\n",
    "    \n",
    "    def upper_bound(r):\n",
    "        x = r / float(N0)\n",
    "        return 2 ** (N0 * H_fn(x))\n",
    "   \n",
    "    bound = upper_bound\n",
    "    \n",
    "    approx_cumsum = np.zeros(nn)\n",
    "    approx_vol_per_bin = np.zeros(nn)\n",
    "\n",
    "    for idx in range(nn):\n",
    "        bin_left = int(bins[idx])\n",
    "        bin_right = int(bins[idx + 1])\n",
    "        approx_cumsum[idx] = bound(bin_right)\n",
    "        print('loop1_cumsum', idx, bin_right, approx_cumsum[idx])\n",
    "    \n",
    "    approx_vol_per_bin[0] = approx_cumsum[0]\n",
    "    for idx in range(1, nn):\n",
    "        approx_vol_per_bin[idx] = approx_cumsum[idx] - approx_cumsum[idx-1]\n",
    "        print('log_volume_per_bin', idx, approx_vol_per_bin[idx], approx_cumsum[idx])\n",
    "    \n",
    "    log_approx_volume_per_bin = np.log(approx_vol_per_bin)\n",
    "    print('log_approx_volume_per_bin')\n",
    "    print(log_approx_volume_per_bin)\n",
    "    \n",
    "    return log_approx_volume_per_bin\n",
    "\n",
    "\n",
    "# scale the normed counts by the distance\n",
    "if NUM_BINS == N + 1:\n",
    "    approxUpper_log_vol_per_bin_arr, approx_vol_per_dist, approx_cumsum = log_volume_per_dist(BINS, upper=True)\n",
    "    approxLower_log_vol_per_bin_arr, approx_vol_per_dist, approx_cumsum = log_volume_per_dist(BINS, upper=False)\n",
    "else:\n",
    "    approxUpper_log_vol_per_bin_arr - log_volume_per_bin(BINS)\n",
    "\n",
    "\n",
    "for mu in [1]:\n",
    "    \n",
    "    counts, bins = np.histogram(list_of_dists[mu], bins=np.arange(N+2))  # len error extend bins\n",
    "    print('len(counts), len(bins)')\n",
    "    print(len(counts), len(bins))\n",
    "    \n",
    "    normed_counts, _, _ = plt.hist(bins[:-1], bins, weights=counts, density=True)\n",
    "    plt.close()\n",
    "    \n",
    "    # Plot p_data(d)\n",
    "    plt.bar(BINS, normed_counts, color='red', width=0.8, linewidth=0)\n",
    "    plt.title(r'$p_{data}(d)$ (pattern: %d)' % mu)\n",
    "    plt.xlim(D_RANGE[0], D_RANGE[1])\n",
    "    plt.xlabel(r'$\\textrm{Hamming distance, d}$')\n",
    "    plt.savefig(outdir + sep + 'TEST_p_dists_hist_mu%d.pdf' % mu)   \n",
    "    plt.close()\n",
    "    \n",
    "    # Plot log p_data(d)\n",
    "    plt.bar(BINS, np.log(normed_counts), color='red', width=0.8, linewidth=0)\n",
    "    plt.title(r'$\\log p_{data}(d)$ (pattern: %d)' % mu)\n",
    "    plt.xlim(D_RANGE[0], D_RANGE[1])\n",
    "    plt.xlabel(r'$\\textrm{Hamming distance, d}$')\n",
    "    plt.savefig(outdir + sep + 'TEST_logp_dists_hist_mu%d.pdf' % mu)   \n",
    "    plt.close()\n",
    "    \n",
    "    #scaled_log_normed_counts = ...\n",
    "    print(len(normed_counts), normed_counts.shape)\n",
    "    print(len(bins[:-1]), bins.shape)\n",
    "    scaled_appxUpper_log_normed_counts = N0 * np.log(2) + np.log(normed_counts) - approxUpper_log_vol_per_bin_arr\n",
    "    scaled_appxLower_log_normed_counts = N0 * np.log(2) + np.log(normed_counts) - approxLower_log_vol_per_bin_arr\n",
    "    \n",
    "    \n",
    "    print('bins_right')\n",
    "    print(bins[1:])\n",
    "    \n",
    "    print('normed_counts')\n",
    "    print(normed_counts)\n",
    "    \n",
    "    \n",
    "    print('approxUpper_log_vol_per_bin_arr')\n",
    "    print(approxUpper_log_vol_per_bin_arr)\n",
    "    \n",
    "    print('scaled_appxUpper_log_normed_counts')\n",
    "    print(scaled_appxUpper_log_normed_counts)\n",
    "    \n",
    "    # Plot log g_data(d), upper and lower bound versions\n",
    "    plt.bar(BINS, scaled_appxUpper_log_normed_counts, color='#2A63B1', width=0.8, linewidth=0)\n",
    "    plt.title(r'$\\log g_{data}(d)$ (upper; pattern: %d)' % mu)\n",
    "    #plt.xlim(D_RANGE[0], D_RANGE[1])\n",
    "    plt.xlim(0,100)\n",
    "    plt.xlabel(r'$\\textrm{Hamming distance, d}$')\n",
    "    plt.savefig(outdir + sep + 'TEST_scaled_appxUpper_log_normed_dists_hist_mu%d.pdf' % mu)   \n",
    "    plt.close()\n",
    "    \n",
    "    plt.bar(BINS, scaled_appxLower_log_normed_counts, color='#2A63B1', width=0.8, linewidth=0)\n",
    "    plt.title(r'$\\log g_{data}(d)$ (upper; pattern: %d)' % mu)\n",
    "    plt.xlim(D_RANGE[0], D_RANGE[1])\n",
    "    plt.xlabel(r'$\\textrm{Hamming distance, d}$')\n",
    "    plt.savefig(outdir + sep + 'TEST_scaled_appxLower_log_normed_dists_hist_mu%d.pdf' % mu)   \n",
    "    plt.close()\n",
    "    \n",
    "    plt.bar(BINS, np.exp(scaled_appxLower_log_normed_counts), color='green', width=0.8, linewidth=0)\n",
    "    plt.title(r'$\\log g_{data}(d)$ (upper; pattern: %d)' % mu)\n",
    "    plt.xlim(D_RANGE[0], D_RANGE[1])\n",
    "    plt.xlabel(r'$\\textrm{Hamming distance, d}$')\n",
    "    plt.savefig(outdir + sep + 'TEST_scaled_appxLower_normed_dists_hist_mu%d.pdf' % mu)   \n",
    "    plt.close()"
   ]
  },
  {
   "cell_type": "code",
   "execution_count": 238,
   "metadata": {},
   "outputs": [
    {
     "data": {
      "image/png": "[encoded data removed]",
      "text/plain": [
       "<Figure size 432x288 with 1 Axes>"
      ]
     },
     "metadata": {
      "needs_background": "light"
     },
     "output_type": "display_data"
    },
    {
     "data": {
      "image/png": "[encoded data removed]",
      "text/plain": [
       "<Figure size 432x288 with 1 Axes>"
      ]
     },
     "metadata": {
      "needs_background": "light"
     },
     "output_type": "display_data"
    }
   ],
   "source": [
    "plt.plot(range(784+1), approxUpper_log_vol_per_bin_arr - N*np.log(2))\n",
    "plt.show(); plt.close()\n",
    "\n",
    "plt.plot(range(784+1), N*np.log(2) - approxUpper_log_vol_per_bin_arr)\n",
    "plt.show(); plt.close()"
   ]
  },
  {
   "cell_type": "code",
   "execution_count": 239,
   "metadata": {},
   "outputs": [
    {
     "name": "stdout",
     "output_type": "stream",
     "text": [
      "[  0   0   0   0   0   0   0   0   0   0   2   2   9   7  13  38  44  53\n",
      "  60  89 104  84 101 118 135 120 134 133 124 110 120 123 112 127 124 129\n",
      "  98 116 130 103 114 104 104 119 125 113 106  97  72  97  90  81  90  88\n",
      "  71  85  95  79 101  69  84  78  70  78  70  73  82  60  74  64  51  70\n",
      "  64  73  67  60  46  55  45  58  35  48  31  45  33  46  40  36  31  28\n",
      "  21  25  18  18  18  14  26  29  25  15  16  16  18   9  14  18  13  11\n",
      "   7  10   5  11  11  10   8   9   4  17   2   8   6   2   5   2   6   3\n",
      "   5   4   3   4   0   2   0   1   1   0   2   0   0   1   1   0   1   1\n",
      "   2   0   0   0   0   0   1   0   0   1   1   0   0   0   0   0   0   1\n",
      "   1   0   0   0   1   0   0   0   0   0   0   0   1   0   0   0   0   0\n",
      "   0   0   0   0   0   0   0   0   0   0   0   0   0   0   0   0   0   0\n",
      "   0   0   0   0   0   0   0   0   0   0   0   0   0   0   0   0   0   0\n",
      "   0   0   0   0   0   0   0   0   0   0   0   0   0   0   0   0   0   0\n",
      "   0   0   0   0   0   0   0   0   0   0   0   0   0   0   0   0   0   0\n",
      "   0   0   0   0   0   0   0   0   0   0   0   0   0   0   0   0   0   0\n",
      "   0   0   0   0   0   0   0   0   0   0   0   0   0   0   0   0   0   0\n",
      "   0   0   0   0   0   0   0   0   0   0   0   0   0   0   0   0   0   0\n",
      "   0   0   0   0   0   0   0   0   0   0   0   0   0   0   0   0   0   0\n",
      "   0   0   0   0   0   0   0   0   0   0   0   0   0   0   0   0   0   0\n",
      "   0   0   0   0   0   0   0   0   0   0   0   0   0   0   0   0   0   0\n",
      "   0   0   0   0   0   0   0   0   0   0   0   0   0   0   0   0   0   0\n",
      "   0   0   0   0   0   0   0   0   0   0   0   0   0   0   0   0   0   0\n",
      "   0   0   0   0   0   0   0   0   0   0   0   0   0   0   0   0   0   0\n",
      "   0   0   0   0   0   0   0   0   0   0   0   0   0   0   0   0   0   0\n",
      "   0   0   0   0   0   0   0   0   0   0   0   0   0   0   0   0   0   0\n",
      "   0   0   0   0   0   0   0   0   0   0   0   0   0   0   0   0   0   0\n",
      "   0   0   0   0   0   0   0   0   0   0   0   0   0   0   0   0   0   0\n",
      "   0   0   0   0   0   0   0   0   0   0   0   0   0   0   0   0   0   0\n",
      "   0   0   0   0   0   0   0   0   0   0   0   0   0   0   0   0   0   0\n",
      "   0   0   0   0   0   0   0   0   0   0   0   0   0   0   0   0   0   0\n",
      "   0   0   0   0   0   0   0   0   0   0   0   0   0   0   0   0   0   0\n",
      "   0   0   0   0   0   0   0   0   0   0   0   0   0   0   0   0   0   0\n",
      "   0   0   0   0   0   0   0   0   0   0   0   0   0   0   0   0   0   0\n",
      "   0   0   0   0   0   0   0   0   0   0   0   0   0   0   0   0   0   0\n",
      "   0   0   0   0   0   0   0   0   0   0   0   0   0   0   0   0   0   0\n",
      "   0   0   0   0   0   0   0   0   0   0   0   0   0   0   0   0   0   0\n",
      "   0   0   0   0   0   0   0   0   0   0   0   0   0   0   0   0   0   0\n",
      "   0   0   0   0   0   0   0   0   0   0   0   0   0   0   0   0   0   0\n",
      "   0   0   0   0   0   0   0   0   0   0   0   0   0   0   0   0   0   0\n",
      "   0   0   0   0   0   0   0   0   0   0   0   0   0   0   0   0   0   0\n",
      "   0   0   0   0   0   0   0   0   0   0   0   0   0   0   0   0   0   0\n",
      "   0   0   0   0   0   0   0   0   0   0   0   0   0   0   0   0   0   0\n",
      "   0   0   0   0   0   0   0   0   0   0   0   0   0   0   0   0   0   0\n",
      "   0   0   0   0   0   0   0   0   0   0   0]\n"
     ]
    }
   ],
   "source": [
    "print(counts)"
   ]
  },
  {
   "cell_type": "code",
   "execution_count": 254,
   "metadata": {},
   "outputs": [
    {
     "name": "stdout",
     "output_type": "stream",
     "text": [
      "[[0.5 3.  2. ]\n",
      " [0.5 3.  2. ]]\n"
     ]
    }
   ],
   "source": [
    "a = np.array([[1,3,4],[1,3,4]])\n",
    "\n",
    "scales = np.array([2,1,2])\n",
    "print (a / scales)"
   ]
  },
  {
   "cell_type": "code",
   "execution_count": 256,
   "metadata": {},
   "outputs": [
    {
     "name": "stdout",
     "output_type": "stream",
     "text": [
      "[ True False  True]\n"
     ]
    }
   ],
   "source": [
    "print(scales > 1)"
   ]
  },
  {
   "cell_type": "code",
   "execution_count": null,
   "metadata": {},
   "outputs": [],
   "source": []
  }
 ],
 "metadata": {
  "kernelspec": {
   "display_name": "Python 3",
   "language": "python",
   "name": "python3"
  },
  "language_info": {
   "codemirror_mode": {
    "name": "ipython",
    "version": 3
   },
   "file_extension": ".py",
   "mimetype": "text/x-python",
   "name": "python",
   "nbconvert_exporter": "python",
   "pygments_lexer": "ipython3",
   "version": "3.7.3"
  }
 },
 "nbformat": 4,
 "nbformat_minor": 2
}
